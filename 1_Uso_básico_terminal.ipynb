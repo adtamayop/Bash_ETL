{
  "nbformat": 4,
  "nbformat_minor": 0,
  "metadata": {
    "kernelspec": {
      "display_name": "Bash",
      "language": "bash",
      "name": "bash"
    },
    "language_info": {
      "codemirror_mode": "shell",
      "file_extension": ".sh",
      "mimetype": "text/x-sh",
      "name": "bash"
    },
    "nbpresent": {
      "slides": {
        "940b5fc9-9cdd-41d7-8372-719403fc2bd2": {
          "id": "940b5fc9-9cdd-41d7-8372-719403fc2bd2",
          "prev": null,
          "regions": {
            "395f31a1-eb6e-4371-acb3-490ee879b8b8": {
              "attrs": {
                "height": 0.2,
                "width": 0.4,
                "x": 0.5,
                "y": 0.7
              },
              "id": "395f31a1-eb6e-4371-acb3-490ee879b8b8"
            },
            "92e1a1f9-4ebc-41a2-bfe8-899c8e794d14": {
              "attrs": {
                "height": 0.8,
                "width": 0.8,
                "x": 0.1,
                "y": 0.1
              },
              "id": "92e1a1f9-4ebc-41a2-bfe8-899c8e794d14"
            },
            "ad53a586-a210-4ed7-adb4-961b08e598b8": {
              "attrs": {
                "height": 0.2,
                "width": 0.4,
                "x": 0.1,
                "y": 0.7
              },
              "id": "ad53a586-a210-4ed7-adb4-961b08e598b8"
            },
            "bd4aba0d-fa0b-42e7-81a3-0beac29f2241": {
              "attrs": {
                "height": 0.8,
                "width": 0.8,
                "x": 0.1,
                "y": 0.1
              },
              "id": "bd4aba0d-fa0b-42e7-81a3-0beac29f2241"
            },
            "cefb04b2-32f0-4965-923e-1a6b36c37fd8": {
              "attrs": {
                "height": 0.6,
                "width": 0.8,
                "x": 0.1,
                "y": 0.1
              },
              "content": {
                "cell": "a4b09f9a-453a-4787-83c4-61a43f75d860",
                "part": "source"
              },
              "id": "cefb04b2-32f0-4965-923e-1a6b36c37fd8"
            }
          }
        }
      }
    },
    "colab": {
      "name": "1. Uso básico terminal.ipynb",
      "provenance": [],
      "collapsed_sections": [],
      "include_colab_link": true
    }
  },
  "cells": [
    {
      "cell_type": "markdown",
      "metadata": {
        "id": "view-in-github",
        "colab_type": "text"
      },
      "source": [
        "<a href=\"https://colab.research.google.com/github/adtamayop/ETL/blob/master/1_Uso_b%C3%A1sico_terminal.ipynb\" target=\"_parent\"><img src=\"https://colab.research.google.com/assets/colab-badge.svg\" alt=\"Open In Colab\"/></a>"
      ]
    },
    {
      "cell_type": "markdown",
      "metadata": {
        "id": "FSJwrUvjsxyc",
        "colab_type": "text"
      },
      "source": [
        "## Impresión usando echo"
      ]
    },
    {
      "cell_type": "markdown",
      "metadata": {
        "id": "I2c16swssxyd",
        "colab_type": "text"
      },
      "source": [
        "El comando `echo` permite imprimir cadenas de texto sin delimitador o delimitadas por comillas simples o dobles. Note que las comillas obligan a que se respete el espacio entre palabras."
      ]
    },
    {
      "cell_type": "code",
      "metadata": {
        "id": "ywJMCSFJsxye",
        "colab_type": "code",
        "outputId": "d5231904-ad3e-413a-923a-175fd4770e51",
        "colab": {
          "base_uri": "https://localhost:8080/",
          "height": 34
        }
      },
      "source": [
        "%%bash\n",
        "echo hola     mundo    cruel # elimina los espacios en blanco entre las palabras"
      ],
      "execution_count": 2,
      "outputs": [
        {
          "output_type": "stream",
          "text": [
            "hola mundo cruel\n"
          ],
          "name": "stdout"
        }
      ]
    },
    {
      "cell_type": "code",
      "metadata": {
        "id": "Bum1xolDsxyh",
        "colab_type": "code",
        "outputId": "0ce03d6d-d305-4c28-e590-e9c7bfcd870b",
        "colab": {
          "base_uri": "https://localhost:8080/",
          "height": 34
        }
      },
      "source": [
        "%%bash\n",
        "echo 'hola     mundo    cruel'"
      ],
      "execution_count": 3,
      "outputs": [
        {
          "output_type": "stream",
          "text": [
            "hola     mundo    cruel\n"
          ],
          "name": "stdout"
        }
      ]
    },
    {
      "cell_type": "code",
      "metadata": {
        "scrolled": true,
        "id": "bvg14kQmsxyj",
        "colab_type": "code",
        "outputId": "3bb29d6d-24ad-42c2-e5bc-033c458252e5",
        "colab": {
          "base_uri": "https://localhost:8080/",
          "height": 34
        }
      },
      "source": [
        "%%bash\n",
        "echo \"hola     mundo    cruel\""
      ],
      "execution_count": 4,
      "outputs": [
        {
          "output_type": "stream",
          "text": [
            "hola     mundo    cruel\n"
          ],
          "name": "stdout"
        }
      ]
    },
    {
      "cell_type": "markdown",
      "metadata": {
        "id": "BVypkNQGsxyl",
        "colab_type": "text"
      },
      "source": [
        "Para imprimir varias líneas de texto se puede usar un `echo` por línea:"
      ]
    },
    {
      "cell_type": "code",
      "metadata": {
        "scrolled": true,
        "id": "90-Nqc9xsxym",
        "colab_type": "code",
        "outputId": "6c59de01-5dd4-4e5b-f798-4efa262279d1",
        "colab": {
          "base_uri": "https://localhost:8080/",
          "height": 70
        }
      },
      "source": [
        "%%bash\n",
        "echo linea 1\n",
        "echo linea 2\n",
        "echo linea 3"
      ],
      "execution_count": 6,
      "outputs": [
        {
          "output_type": "stream",
          "text": [
            "linea 1\n",
            "linea 2\n",
            "linea 3\n"
          ],
          "name": "stdout"
        }
      ]
    },
    {
      "cell_type": "markdown",
      "metadata": {
        "id": "0XCQiVydsxyo",
        "colab_type": "text"
      },
      "source": [
        "pero en este caso es posible usar las comillas"
      ]
    },
    {
      "cell_type": "code",
      "metadata": {
        "scrolled": true,
        "id": "uvLum0ECsxyp",
        "colab_type": "code",
        "outputId": "03e83119-daca-4a93-d172-7431e6d63a86",
        "colab": {
          "base_uri": "https://localhost:8080/",
          "height": 70
        }
      },
      "source": [
        "%%bash\n",
        "echo 'linea 1\n",
        "linea 2\n",
        "linea 3' "
      ],
      "execution_count": 7,
      "outputs": [
        {
          "output_type": "stream",
          "text": [
            "linea 1\n",
            "linea 2\n",
            "linea 3\n"
          ],
          "name": "stdout"
        }
      ]
    },
    {
      "cell_type": "markdown",
      "metadata": {
        "id": "N9QEYBDgsxyr",
        "colab_type": "text"
      },
      "source": [
        "El operador `\\` se usa para indicar que la línea lógica continua en el siguiente renglón físico; en el siguiente ejemplo todos los textos se imprimen en la misma línea."
      ]
    },
    {
      "cell_type": "code",
      "metadata": {
        "scrolled": true,
        "id": "GUnT6nGgsxyr",
        "colab_type": "code",
        "outputId": "f502a7c8-6c13-40ef-a682-9fa20356e32f",
        "colab": {
          "base_uri": "https://localhost:8080/",
          "height": 34
        }
      },
      "source": [
        "!echo linea 1 \\\n",
        "linea 2 \\\n",
        "linea 3"
      ],
      "execution_count": 9,
      "outputs": [
        {
          "output_type": "stream",
          "text": [
            "linea 1 linea 2 linea 3\n"
          ],
          "name": "stdout"
        }
      ]
    },
    {
      "cell_type": "markdown",
      "metadata": {
        "id": "mEsxzR_Hsxyt",
        "colab_type": "text"
      },
      "source": [
        "`echo` también admite el uso de caracteres de escape (precedidos por `'\\'`); en el siguiente ejemplo se usa el carácter de retorno de carro `'\\n'` en la cadena de texto para indicar el inicio de una nueva línea. Se debe usar la opción '-e' del comando `echo` para convertir los caracteres `\\n` en retornos de carro."
      ]
    },
    {
      "cell_type": "code",
      "metadata": {
        "scrolled": true,
        "id": "pXNcE_rFsxyu",
        "colab_type": "code",
        "outputId": "f51d6982-05d3-4e90-c627-977e13abc43b",
        "colab": {
          "base_uri": "https://localhost:8080/",
          "height": 70
        }
      },
      "source": [
        "!echo -e \"linea 1\\nlinea 2\\nlinea 3\""
      ],
      "execution_count": 10,
      "outputs": [
        {
          "output_type": "stream",
          "text": [
            "linea 1\n",
            "linea 2\n",
            "linea 3\n"
          ],
          "name": "stdout"
        }
      ]
    },
    {
      "cell_type": "markdown",
      "metadata": {
        "id": "OvrI6_Awsxyx",
        "colab_type": "text"
      },
      "source": [
        "## Impresión de texto con formato usando printf"
      ]
    },
    {
      "cell_type": "markdown",
      "metadata": {
        "id": "3dIW1ewvsxyy",
        "colab_type": "text"
      },
      "source": [
        "Bash también tiene el comando `printf`, el cual usa una sintaxis similar a la del lenguaje C: \n",
        "\n",
        "* `%s` indica cadena de caracteres.\n",
        "* `%f` indica un número en punto flotante.\n",
        "* `%g` indica un número entero.\n",
        "\n",
        "En los siguientes ejemplos se ilustra como se puede indicar el tamaño del campo. Note la alineación de la impresión. "
      ]
    },
    {
      "cell_type": "code",
      "metadata": {
        "scrolled": true,
        "id": "fhLKYYmfsxyz",
        "colab_type": "code",
        "outputId": "6730fed6-326e-4bf6-89e6-879a756dc8f4",
        "colab": {}
      },
      "source": [
        "printf '%s ---- %f' 'hola mundo'  1.23456789"
      ],
      "execution_count": 0,
      "outputs": [
        {
          "output_type": "stream",
          "text": [
            "hola mundo ---- 1.234568"
          ],
          "name": "stdout"
        }
      ]
    },
    {
      "cell_type": "code",
      "metadata": {
        "scrolled": true,
        "id": "HT2VJdhqsxy1",
        "colab_type": "code",
        "outputId": "b08c8a7b-bab1-4f34-aba3-226ce71cfaf4",
        "colab": {}
      },
      "source": [
        "printf '%15s --- %8.2f'  hola   1.23456789"
      ],
      "execution_count": 0,
      "outputs": [
        {
          "output_type": "stream",
          "text": [
            "           hola ---     1.23"
          ],
          "name": "stdout"
        }
      ]
    },
    {
      "cell_type": "code",
      "metadata": {
        "scrolled": true,
        "id": "k8USxSc-sxy3",
        "colab_type": "code",
        "outputId": "8a53a6db-e495-4748-e7dc-bf7f06d0816b",
        "colab": {}
      },
      "source": [
        "printf '%15s --- %8.2f'  'hola mundo'   123.456789"
      ],
      "execution_count": 0,
      "outputs": [
        {
          "output_type": "stream",
          "text": [
            "     hola mundo ---   123.46"
          ],
          "name": "stdout"
        }
      ]
    },
    {
      "cell_type": "markdown",
      "metadata": {
        "id": "CwwWzhKpsxy5",
        "colab_type": "text"
      },
      "source": [
        "## Impresión de secuencias usando seq"
      ]
    },
    {
      "cell_type": "markdown",
      "metadata": {
        "id": "St63aIkEsxy6",
        "colab_type": "text"
      },
      "source": [
        "En vez de `echo` se puede usar `seq` para imprimir secuencias."
      ]
    },
    {
      "cell_type": "code",
      "metadata": {
        "scrolled": true,
        "id": "X5Y-uPpGsxy6",
        "colab_type": "code",
        "outputId": "57a884b1-18b4-4479-9db3-de35a679f5a9",
        "colab": {}
      },
      "source": [
        "seq 5"
      ],
      "execution_count": 0,
      "outputs": [
        {
          "output_type": "stream",
          "text": [
            "1\n",
            "2\n",
            "3\n",
            "4\n",
            "5\n"
          ],
          "name": "stdout"
        }
      ]
    },
    {
      "cell_type": "markdown",
      "metadata": {
        "id": "v9SxO-zHsxy8",
        "colab_type": "text"
      },
      "source": [
        "La opción `-f` permite especificar  formato para la secuencia, por ejemplo:"
      ]
    },
    {
      "cell_type": "code",
      "metadata": {
        "scrolled": true,
        "id": "YkbSBc_0sxy9",
        "colab_type": "code",
        "outputId": "326b5f69-2a19-4dce-d197-f9bb1aaff181",
        "colab": {}
      },
      "source": [
        "seq -f\"linea %g\" 5"
      ],
      "execution_count": 0,
      "outputs": [
        {
          "output_type": "stream",
          "text": [
            "linea 1\n",
            "linea 2\n",
            "linea 3\n",
            "linea 4\n",
            "linea 5\n"
          ],
          "name": "stdout"
        }
      ]
    },
    {
      "cell_type": "markdown",
      "metadata": {
        "id": "xWmJYfx9sxy_",
        "colab_type": "text"
      },
      "source": [
        "La opción `-s` permite indicar el separador."
      ]
    },
    {
      "cell_type": "code",
      "metadata": {
        "scrolled": true,
        "id": "crlmVsGOsxzA",
        "colab_type": "code",
        "outputId": "73fe1275-0763-4639-f730-9a69c0aed319",
        "colab": {}
      },
      "source": [
        "seq -s, 2 2 10 # el separador es la coma"
      ],
      "execution_count": 0,
      "outputs": [
        {
          "output_type": "stream",
          "text": [
            "2,4,6,8,10\n"
          ],
          "name": "stdout"
        }
      ]
    },
    {
      "cell_type": "markdown",
      "metadata": {
        "id": "4wOLFbmusxzB",
        "colab_type": "text"
      },
      "source": [
        "La opción `-w` permite especificar formato."
      ]
    },
    {
      "cell_type": "code",
      "metadata": {
        "scrolled": true,
        "id": "owgjLDq7sxzC",
        "colab_type": "code",
        "outputId": "600bf2bc-d158-4b51-efe6-b9738de4d1e1",
        "colab": {}
      },
      "source": [
        "seq 0 .05 .1 # valor inicial, incremento y valor final"
      ],
      "execution_count": 0,
      "outputs": [
        {
          "output_type": "stream",
          "text": [
            "0.00\n",
            "0.05\n",
            "0.10\n"
          ],
          "name": "stdout"
        }
      ]
    },
    {
      "cell_type": "code",
      "metadata": {
        "scrolled": true,
        "id": "CU0odA8usxzE",
        "colab_type": "code",
        "outputId": "75e20bfb-ca94-4d90-ed52-1f3f6655b766",
        "colab": {}
      },
      "source": [
        "seq -w 0 .05 .1"
      ],
      "execution_count": 0,
      "outputs": [
        {
          "output_type": "stream",
          "text": [
            "0.00\n",
            "0.05\n",
            "0.10\n"
          ],
          "name": "stdout"
        }
      ]
    },
    {
      "cell_type": "markdown",
      "metadata": {
        "id": "L0rhv6lCsxzG",
        "colab_type": "text"
      },
      "source": [
        "## Redireccionamiento de la entrada, la salida y pipes "
      ]
    },
    {
      "cell_type": "markdown",
      "metadata": {
        "id": "Tlol34OYsxzH",
        "colab_type": "text"
      },
      "source": [
        "Entre las características más importantes para la transformación de datos sobresalen la posibilidad de redireccionar tanto la entrada como la salida, y el uso de tuberías para usar la salida de un comando como la entrada del siguiente. El direccionamiento de la salida por pantalla a un archivo se realiza usando el operador `>`. Si el archivo al que se direcciona no existe, lo crea; y si existe, lo sobrescribe. Para que la salida se agregue al contenido de un archivo existente se utiliza el operador `>>`."
      ]
    },
    {
      "cell_type": "markdown",
      "metadata": {
        "id": "wQ41pmF0sxzI",
        "colab_type": "text"
      },
      "source": [
        "En el siguiente ejemplo se imprime `hola mundo feliz` en el archivo `out.1`."
      ]
    },
    {
      "cell_type": "code",
      "metadata": {
        "id": "0M0fMGIDsxzJ",
        "colab_type": "code",
        "outputId": "bcf8099e-b73e-4524-f349-0a908c904135",
        "colab": {}
      },
      "source": [
        "echo hola mundo feliz > out.1\n",
        "cat out.1"
      ],
      "execution_count": 0,
      "outputs": [
        {
          "output_type": "stream",
          "text": [
            "hola mundo feliz\n"
          ],
          "name": "stdout"
        }
      ]
    },
    {
      "cell_type": "markdown",
      "metadata": {
        "id": "cqxID0TIsxzN",
        "colab_type": "text"
      },
      "source": [
        "Por otra parte, el operador `<` indica que la entrada al comando se hace desde un archivo. Más adelante se presentan muchos ejemplos sobre este operador."
      ]
    },
    {
      "cell_type": "markdown",
      "metadata": {
        "id": "t-NGvJ8isxzO",
        "colab_type": "text"
      },
      "source": [
        "Finalmente, es posible víncular dos o más comandos con `|`, tal que la salida del primero es la entrada del segundo. "
      ]
    },
    {
      "cell_type": "markdown",
      "metadata": {
        "id": "fiIxGHRxsxzO",
        "colab_type": "text"
      },
      "source": [
        "## Visualización del contenido de un archivo con cat"
      ]
    },
    {
      "cell_type": "markdown",
      "metadata": {
        "id": "4Qlj7wlDsxzP",
        "colab_type": "text"
      },
      "source": [
        "El comando `cat`  *`nombrearchivo`* imprime en pantalla el contenido del archivo."
      ]
    },
    {
      "cell_type": "code",
      "metadata": {
        "scrolled": true,
        "id": "YYsYfdggsxzQ",
        "colab_type": "code",
        "outputId": "62900063-6dd3-4703-dd94-f2ed44bd4901",
        "colab": {}
      },
      "source": [
        "echo hola mundo feliz > out.1\n",
        "cat out.1  # imprime el contenido de out.1"
      ],
      "execution_count": 0,
      "outputs": [
        {
          "output_type": "stream",
          "text": [
            "hola mundo feliz\n"
          ],
          "name": "stdout"
        }
      ]
    },
    {
      "cell_type": "code",
      "metadata": {
        "scrolled": true,
        "id": "pg7LDFC6sxzT",
        "colab_type": "code",
        "outputId": "3e98003f-0b6a-4e67-afb9-019f8951e72e",
        "colab": {}
      },
      "source": [
        "echo \"otra vez hola mundo feliz\" >> out.1 # agrega la nueva impresión al final de out.1\n",
        "cat out.1"
      ],
      "execution_count": 0,
      "outputs": [
        {
          "output_type": "stream",
          "text": [
            "hola mundo feliz\n",
            "otra vez hola mundo feliz\n"
          ],
          "name": "stdout"
        }
      ]
    },
    {
      "cell_type": "markdown",
      "metadata": {
        "id": "DYsabOTXsxzV",
        "colab_type": "text"
      },
      "source": [
        "El comando `echo` sin argumentos permite crear un archivo vacío."
      ]
    },
    {
      "cell_type": "code",
      "metadata": {
        "scrolled": true,
        "id": "GKepx6YSsxzW",
        "colab_type": "code",
        "outputId": "486b0387-b16b-4f02-bd52-9c9f49cfc7b9",
        "colab": {}
      },
      "source": [
        "echo > out.1\n",
        "cat out.1"
      ],
      "execution_count": 0,
      "outputs": [
        {
          "output_type": "stream",
          "text": [
            "\n"
          ],
          "name": "stdout"
        }
      ]
    },
    {
      "cell_type": "markdown",
      "metadata": {
        "id": "LOUijia6sxzZ",
        "colab_type": "text"
      },
      "source": [
        "Suponga que se desea almacenar en un archivo el siguiente texto:\n",
        "\n",
        "     CustomerID, Customer\n",
        "        1, Customer A\n",
        "        2, Customer B\n",
        "\n",
        "Para ello, existen varias alternativas. La primera opción es:"
      ]
    },
    {
      "cell_type": "code",
      "metadata": {
        "id": "l_HJVUsCsxza",
        "colab_type": "code",
        "colab": {}
      },
      "source": [
        "echo CustomerID, Customer > out.1\n",
        "echo    1, Customer A >> out.1\n",
        "echo    2, Customer B >> out.1"
      ],
      "execution_count": 0,
      "outputs": []
    },
    {
      "cell_type": "markdown",
      "metadata": {
        "id": "X2PCtHvxsxzb",
        "colab_type": "text"
      },
      "source": [
        "La segunda opción es:"
      ]
    },
    {
      "cell_type": "code",
      "metadata": {
        "id": "GF35JeAIsxzc",
        "colab_type": "code",
        "colab": {}
      },
      "source": [
        "echo \"CustomerID, Customer\n",
        "   1, Customer A\n",
        "   2, Customer B\" > out.1"
      ],
      "execution_count": 0,
      "outputs": []
    },
    {
      "cell_type": "markdown",
      "metadata": {
        "id": "J2ipk3_Esxzd",
        "colab_type": "text"
      },
      "source": [
        "Pero existe una tercera opción, de uso muy generalizado, que es la siguiente:"
      ]
    },
    {
      "cell_type": "code",
      "metadata": {
        "scrolled": true,
        "id": "6ovvoTUfsxze",
        "colab_type": "code",
        "colab": {}
      },
      "source": [
        "cat > out.1 <<EOF\n",
        "CustomerID, Customer\n",
        "   1, Customer A\n",
        "   2, Customer B\n",
        "EOF"
      ],
      "execution_count": 0,
      "outputs": []
    },
    {
      "cell_type": "code",
      "metadata": {
        "scrolled": true,
        "id": "ZrbARK-9sxzg",
        "colab_type": "code",
        "outputId": "35f2b500-0a91-4914-d0d7-8bcf577de5d4",
        "colab": {}
      },
      "source": [
        "cat out.1"
      ],
      "execution_count": 0,
      "outputs": [
        {
          "output_type": "stream",
          "text": [
            "CustomerID, Customer\n",
            "   1, Customer A\n",
            "   2, Customer B\n"
          ],
          "name": "stdout"
        }
      ]
    },
    {
      "cell_type": "markdown",
      "metadata": {
        "id": "dllNZZhUsxzi",
        "colab_type": "text"
      },
      "source": [
        "El contenido del archivo se escribe directamente entre <<EOF y EOF.\n",
        "\n",
        "El principal uso de `cat` es la concatenación de archivos. En la siguiente porción de código se generan los archivos `out.1`, `out.2` y `out.3`, y luego se imprimen sus contenidos de forma concatenada."
      ]
    },
    {
      "cell_type": "code",
      "metadata": {
        "scrolled": true,
        "id": "N0vFRaIzsxzj",
        "colab_type": "code",
        "outputId": "af793f99-0fca-4fcb-dfeb-67d5718e46b9",
        "colab": {}
      },
      "source": [
        "seq -f\"linea %g\" 1 1 3 > out.1\n",
        "seq -f\"linea %g\" 4 1 6 > out.2\n",
        "seq -f\"linea %g\" 7 1 9 > out.3\n",
        "cat out.1 out.2 out.3"
      ],
      "execution_count": 0,
      "outputs": [
        {
          "output_type": "stream",
          "text": [
            "linea 1\n",
            "linea 2\n",
            "linea 3\n",
            "linea 4\n",
            "linea 5\n",
            "linea 6\n",
            "linea 7\n",
            "linea 8\n",
            "linea 9\n"
          ],
          "name": "stdout"
        }
      ]
    },
    {
      "cell_type": "markdown",
      "metadata": {
        "id": "G72j6zvcsxzk",
        "colab_type": "text"
      },
      "source": [
        "Una forma más compacta es usar la expresión `out.*`, la cual representa todos los archivos cuyos nombres empiezan por `out.`. De esta forma, el comando anterior se convierte en: "
      ]
    },
    {
      "cell_type": "code",
      "metadata": {
        "scrolled": true,
        "id": "05EM11-psxzl",
        "colab_type": "code",
        "outputId": "bd0f5d77-ee32-472d-aca1-81e42e8caef2",
        "colab": {}
      },
      "source": [
        "cat out.*"
      ],
      "execution_count": 0,
      "outputs": [
        {
          "output_type": "stream",
          "text": [
            "linea 1\n",
            "linea 2\n",
            "linea 3\n",
            "linea 4\n",
            "linea 5\n",
            "linea 6\n",
            "linea 7\n",
            "linea 8\n",
            "linea 9\n"
          ],
          "name": "stdout"
        }
      ]
    },
    {
      "cell_type": "markdown",
      "metadata": {
        "id": "p5L4Ga0Usxzm",
        "colab_type": "text"
      },
      "source": [
        "Algunos sistemas incorporan el comando `tac` que imprime el contenido de un archivo empezando por la última línea."
      ]
    },
    {
      "cell_type": "markdown",
      "metadata": {
        "id": "miJ5T5Orsxzn",
        "colab_type": "text"
      },
      "source": [
        "## Visualización del inicio de un archivo con head"
      ]
    },
    {
      "cell_type": "markdown",
      "metadata": {
        "id": "a2qYRwbEsxzn",
        "colab_type": "text"
      },
      "source": [
        "El comando `head` se usa para visualizar la porción inicial del contenido de un archivo. `head` imprime por defecto las primeras 10 líneas. La cantidad de líneas visualizadas se puede modificar mediante la opción `-n`."
      ]
    },
    {
      "cell_type": "code",
      "metadata": {
        "scrolled": false,
        "id": "zWh_OOSxsxzo",
        "colab_type": "code",
        "outputId": "8aca9736-f0e6-40ab-db7a-9be3e2c37c31",
        "colab": {}
      },
      "source": [
        "seq -f\"linea %g\" 100 > out.1 # se generan 100 líneas\n",
        "head -n 3 out.1"
      ],
      "execution_count": 0,
      "outputs": [
        {
          "output_type": "stream",
          "text": [
            "linea 1\n",
            "linea 2\n",
            "linea 3\n"
          ],
          "name": "stdout"
        }
      ]
    },
    {
      "cell_type": "markdown",
      "metadata": {
        "id": "kwmo53q6sxzp",
        "colab_type": "text"
      },
      "source": [
        "## Visualización del final de un archivo con tail"
      ]
    },
    {
      "cell_type": "markdown",
      "metadata": {
        "id": "AxmACz3osxzq",
        "colab_type": "text"
      },
      "source": [
        "De forma similar al comando `head`, el comando `tail` permite visualizar las últimas líneas de un archivo."
      ]
    },
    {
      "cell_type": "code",
      "metadata": {
        "scrolled": true,
        "id": "saC1LCdnsxzr",
        "colab_type": "code",
        "outputId": "dbc6109b-48fe-48b9-8cda-b21b4e9de42f",
        "colab": {}
      },
      "source": [
        "tail -n 3 out.1"
      ],
      "execution_count": 0,
      "outputs": [
        {
          "output_type": "stream",
          "text": [
            "linea 98\n",
            "linea 99\n",
            "linea 100\n"
          ],
          "name": "stdout"
        }
      ]
    },
    {
      "cell_type": "markdown",
      "metadata": {
        "id": "IiqdKC11sxzt",
        "colab_type": "text"
      },
      "source": [
        "En el siguiente ejemplo, el argumento `+5` indica que se imprime desde la línea 5 hasta el final."
      ]
    },
    {
      "cell_type": "code",
      "metadata": {
        "scrolled": true,
        "id": "75eA2eC_sxzt",
        "colab_type": "code",
        "outputId": "7673e688-8a94-4659-b6ee-978661ca9fd9",
        "colab": {}
      },
      "source": [
        "seq -f'linea %g' 6 > out.1\n",
        "tail +5 out.1"
      ],
      "execution_count": 0,
      "outputs": [
        {
          "output_type": "stream",
          "text": [
            "linea 5\n",
            "linea 6\n"
          ],
          "name": "stdout"
        }
      ]
    },
    {
      "cell_type": "markdown",
      "metadata": {
        "id": "laZVF4Vtsxzw",
        "colab_type": "text"
      },
      "source": [
        "Se pueden escribir varios comandos en la misma línea separándolos por `;`."
      ]
    },
    {
      "cell_type": "code",
      "metadata": {
        "scrolled": true,
        "id": "YDNECPZwsxzw",
        "colab_type": "code",
        "outputId": "92f03bb0-9eff-4243-8d56-4b32a82d1ad3",
        "colab": {}
      },
      "source": [
        "echo 1; echo 2; echo 3"
      ],
      "execution_count": 0,
      "outputs": [
        {
          "output_type": "stream",
          "text": [
            "1\n",
            "2\n",
            "3\n"
          ],
          "name": "stdout"
        }
      ]
    },
    {
      "cell_type": "markdown",
      "metadata": {
        "id": "XW22Z6lksxzy",
        "colab_type": "text"
      },
      "source": [
        "## Visualización del contenido de un archivo con more y less"
      ]
    },
    {
      "cell_type": "markdown",
      "metadata": {
        "id": "esZva6ybsxzy",
        "colab_type": "text"
      },
      "source": [
        "Unix también proporciona los comandos `more` (versión más antigua) y `less` para la visualización del contenido de archivos. Simplemente digite `less` *`nombrearchivo`* para iniciar la visualización."
      ]
    },
    {
      "cell_type": "markdown",
      "metadata": {
        "id": "WdwtbIeEsxzz",
        "colab_type": "text"
      },
      "source": [
        "* Use la tecla `Space` para avanzar una página.\n",
        "* Use `Ctrl-F` (Forward) y `Ctrl-B`  (Backward) para avanzar o retroceder una página.\n",
        "* Use las teclas arriba y abajo para moverse una línea a la vez.\n",
        "* Digite el número de línea y `G` (go to) para ir a una línea determinada.\n",
        "* Digite `q` para salir de `less`"
      ]
    },
    {
      "cell_type": "markdown",
      "metadata": {
        "id": "v5urKcWhsxzz",
        "colab_type": "text"
      },
      "source": [
        "## Ordenación de un archivo con sort "
      ]
    },
    {
      "cell_type": "markdown",
      "metadata": {
        "id": "Bz_7mYPqsxz0",
        "colab_type": "text"
      },
      "source": [
        "El comando `sort` permite ordenar el contenido de un archivo. El ordanamiento se realiza con base en el contenido total de cada línea. En el siguiente ejemplo, el operador `'|'` pasa la salida de `cat` como entrada a `sort`. "
      ]
    },
    {
      "cell_type": "code",
      "metadata": {
        "scrolled": true,
        "id": "RhCxtB-csxz0",
        "colab_type": "code",
        "outputId": "7f8c42e7-68b4-4ce8-db4a-4bde77ebea5a",
        "colab": {}
      },
      "source": [
        "seq -f'linea %g' 3 > out.1\n",
        "cat out.1 out.1 out.1 | sort"
      ],
      "execution_count": 0,
      "outputs": [
        {
          "output_type": "stream",
          "text": [
            "linea 1\n",
            "linea 1\n",
            "linea 1\n",
            "linea 2\n",
            "linea 2\n",
            "linea 2\n",
            "linea 3\n",
            "linea 3\n",
            "linea 3\n"
          ],
          "name": "stdout"
        }
      ]
    },
    {
      "cell_type": "markdown",
      "metadata": {
        "id": "U_6bbrVesxz2",
        "colab_type": "text"
      },
      "source": [
        "## Obtención de las líneas únicas de un archivo con uniq"
      ]
    },
    {
      "cell_type": "markdown",
      "metadata": {
        "id": "sD2DBtZksxz3",
        "colab_type": "text"
      },
      "source": [
        "El comando `uniq` permite obtener el contenido de un archivo eliminando las líneas repetidas. Observe que en los siguientes ejemplos solo se eliminan las líneas repetidas que son consecutivas."
      ]
    },
    {
      "cell_type": "code",
      "metadata": {
        "scrolled": true,
        "id": "AKHzCR_ssxz4",
        "colab_type": "code",
        "outputId": "199bbd52-350c-4a6c-f065-93481ffaddce",
        "colab": {}
      },
      "source": [
        "seq -f'linea %g' 3 > out.1 # genera el primer archivo de datos\n",
        "seq -f'linea %g' 3 > out.2 # genera el segundo archivo de datos\n",
        "cat out.1 out.2 out.1 out.2"
      ],
      "execution_count": 0,
      "outputs": [
        {
          "output_type": "stream",
          "text": [
            "linea 1\n",
            "linea 2\n",
            "linea 3\n",
            "linea 1\n",
            "linea 2\n",
            "linea 3\n",
            "linea 1\n",
            "linea 2\n",
            "linea 3\n",
            "linea 1\n",
            "linea 2\n",
            "linea 3\n"
          ],
          "name": "stdout"
        }
      ]
    },
    {
      "cell_type": "code",
      "metadata": {
        "scrolled": true,
        "id": "uDaQl9_Gsxz8",
        "colab_type": "code",
        "outputId": "6865113c-14c4-46f2-a10c-29bb2d762bb6",
        "colab": {}
      },
      "source": [
        "cat out.1 out.2 out.1 out.2 |  uniq"
      ],
      "execution_count": 0,
      "outputs": [
        {
          "output_type": "stream",
          "text": [
            "linea 1\n",
            "linea 2\n",
            "linea 3\n",
            "linea 1\n",
            "linea 2\n",
            "linea 3\n",
            "linea 1\n",
            "linea 2\n",
            "linea 3\n",
            "linea 1\n",
            "linea 2\n",
            "linea 3\n"
          ],
          "name": "stdout"
        }
      ]
    },
    {
      "cell_type": "code",
      "metadata": {
        "scrolled": true,
        "id": "2cL-eTT8sxz-",
        "colab_type": "code",
        "outputId": "1f0426ee-6c08-4ee5-cb77-677bb476121c",
        "colab": {}
      },
      "source": [
        "cat out.1 out.2 out.1 out.2 | sort | uniq"
      ],
      "execution_count": 0,
      "outputs": [
        {
          "output_type": "stream",
          "text": [
            "linea 1\n",
            "linea 2\n",
            "linea 3\n"
          ],
          "name": "stdout"
        }
      ]
    },
    {
      "cell_type": "markdown",
      "metadata": {
        "id": "UFlQNzErsx0A",
        "colab_type": "text"
      },
      "source": [
        "## Conteo de la cantidad de líneas, palabras y caracteres de archivo usando wc"
      ]
    },
    {
      "cell_type": "markdown",
      "metadata": {
        "id": "f0oQchk9sx0A",
        "colab_type": "text"
      },
      "source": [
        "El comando `wc` permite contar líneas, palabras, caracteres y bytes de un archivo. La opción `-l` cuenta líneas,  `-m` caracteres y `-w` palabras."
      ]
    },
    {
      "cell_type": "code",
      "metadata": {
        "scrolled": true,
        "id": "iXAsB57msx0B",
        "colab_type": "code",
        "outputId": "2931375d-7e02-4109-b319-305c6e093fe6",
        "colab": {}
      },
      "source": [
        "wc -l out.1 out.2 # número de líneas"
      ],
      "execution_count": 0,
      "outputs": [
        {
          "output_type": "stream",
          "text": [
            " 3 out.1\n",
            " 3 out.2\n",
            " 6 total\n"
          ],
          "name": "stdout"
        }
      ]
    },
    {
      "cell_type": "code",
      "metadata": {
        "scrolled": true,
        "id": "aoZo8e6zsx0D",
        "colab_type": "code",
        "outputId": "31f8e7a0-932f-40cd-8114-4a7b63d19ac5",
        "colab": {}
      },
      "source": [
        "wc -m out.1 out.2 # número de caracteres"
      ],
      "execution_count": 0,
      "outputs": [
        {
          "output_type": "stream",
          "text": [
            "24 out.1\n",
            "24 out.2\n",
            "48 total\n"
          ],
          "name": "stdout"
        }
      ]
    },
    {
      "cell_type": "code",
      "metadata": {
        "scrolled": true,
        "id": "0U5qOZ-Dsx0G",
        "colab_type": "code",
        "outputId": "743c4680-bffc-4985-dff7-c1b169445401",
        "colab": {}
      },
      "source": [
        "wc -w out.1 out.2 # número de palabras"
      ],
      "execution_count": 0,
      "outputs": [
        {
          "output_type": "stream",
          "text": [
            " 6 out.1\n",
            " 6 out.2\n",
            "12 total\n"
          ],
          "name": "stdout"
        }
      ]
    },
    {
      "cell_type": "code",
      "metadata": {
        "scrolled": false,
        "id": "g8JJbnBdsx0J",
        "colab_type": "code",
        "outputId": "5553a187-a763-4ac1-fb17-21c076c259cb",
        "colab": {}
      },
      "source": [
        "wc out.1 out.2 "
      ],
      "execution_count": 0,
      "outputs": [
        {
          "output_type": "stream",
          "text": [
            " 3  6 24 out.1\n",
            " 3  6 24 out.2\n",
            " 6 12 48 total\n"
          ],
          "name": "stdout"
        }
      ]
    },
    {
      "cell_type": "markdown",
      "metadata": {
        "id": "oagJCatssx0L",
        "colab_type": "text"
      },
      "source": [
        "## Búsqueda de patrones con grep"
      ]
    },
    {
      "cell_type": "markdown",
      "metadata": {
        "id": "RtXFL4wPsx0M",
        "colab_type": "text"
      },
      "source": [
        "El comando `grep` permite imprime las líneas del archivo que contiene una cadena de texto especificada. En los siguentes ejemplos se imprimen los números del 1 al 20 que contienen un `'1'`."
      ]
    },
    {
      "cell_type": "code",
      "metadata": {
        "scrolled": true,
        "id": "blbVmGc1sx0M",
        "colab_type": "code",
        "outputId": "21286bf6-1693-4682-99ac-acd1db05b0a0",
        "colab": {}
      },
      "source": [
        "seq 20 | grep 1"
      ],
      "execution_count": 0,
      "outputs": [
        {
          "output_type": "stream",
          "text": [
            "\u001b[01;31m\u001b[K1\u001b[m\u001b[K\n",
            "\u001b[01;31m\u001b[K1\u001b[m\u001b[K0\n",
            "\u001b[01;31m\u001b[K1\u001b[m\u001b[K\u001b[01;31m\u001b[K1\u001b[m\u001b[K\n",
            "\u001b[01;31m\u001b[K1\u001b[m\u001b[K2\n",
            "\u001b[01;31m\u001b[K1\u001b[m\u001b[K3\n",
            "\u001b[01;31m\u001b[K1\u001b[m\u001b[K4\n",
            "\u001b[01;31m\u001b[K1\u001b[m\u001b[K5\n",
            "\u001b[01;31m\u001b[K1\u001b[m\u001b[K6\n",
            "\u001b[01;31m\u001b[K1\u001b[m\u001b[K7\n",
            "\u001b[01;31m\u001b[K1\u001b[m\u001b[K8\n",
            "\u001b[01;31m\u001b[K1\u001b[m\u001b[K9\n"
          ],
          "name": "stdout"
        }
      ]
    },
    {
      "cell_type": "code",
      "metadata": {
        "scrolled": true,
        "id": "55waMiv6sx0O",
        "colab_type": "code",
        "outputId": "77536366-aefd-4ff4-ef55-ac9c54e086e4",
        "colab": {}
      },
      "source": [
        "seq -f'linea %g' 20 > out.1\n",
        "grep 1 out.1"
      ],
      "execution_count": 0,
      "outputs": [
        {
          "output_type": "stream",
          "text": [
            "linea \u001b[01;31m\u001b[K1\u001b[m\u001b[K\n",
            "linea \u001b[01;31m\u001b[K1\u001b[m\u001b[K0\n",
            "linea \u001b[01;31m\u001b[K1\u001b[m\u001b[K\u001b[01;31m\u001b[K1\u001b[m\u001b[K\n",
            "linea \u001b[01;31m\u001b[K1\u001b[m\u001b[K2\n",
            "linea \u001b[01;31m\u001b[K1\u001b[m\u001b[K3\n",
            "linea \u001b[01;31m\u001b[K1\u001b[m\u001b[K4\n",
            "linea \u001b[01;31m\u001b[K1\u001b[m\u001b[K5\n",
            "linea \u001b[01;31m\u001b[K1\u001b[m\u001b[K6\n",
            "linea \u001b[01;31m\u001b[K1\u001b[m\u001b[K7\n",
            "linea \u001b[01;31m\u001b[K1\u001b[m\u001b[K8\n",
            "linea \u001b[01;31m\u001b[K1\u001b[m\u001b[K9\n"
          ],
          "name": "stdout"
        }
      ]
    },
    {
      "cell_type": "markdown",
      "metadata": {
        "id": "53hV0e6_sx0P",
        "colab_type": "text"
      },
      "source": [
        "El símbolo `$` indica que la cadena de texto debe aparecer al final de la línea. El símbolo `^` indica que la cadena de texto debe aparecer al principio de la línea."
      ]
    },
    {
      "cell_type": "code",
      "metadata": {
        "scrolled": true,
        "id": "UudQ4lwJsx0Q",
        "colab_type": "code",
        "outputId": "fab7222d-87d2-4648-c640-54aabe02eb24",
        "colab": {}
      },
      "source": [
        "seq 100 | grep 1$  # imprime los números del 1 al 100 que finalizan con 1."
      ],
      "execution_count": 0,
      "outputs": [
        {
          "output_type": "stream",
          "text": [
            "\u001b[01;31m\u001b[K1\u001b[m\u001b[K\n",
            "1\u001b[01;31m\u001b[K1\u001b[m\u001b[K\n",
            "2\u001b[01;31m\u001b[K1\u001b[m\u001b[K\n",
            "3\u001b[01;31m\u001b[K1\u001b[m\u001b[K\n",
            "4\u001b[01;31m\u001b[K1\u001b[m\u001b[K\n",
            "5\u001b[01;31m\u001b[K1\u001b[m\u001b[K\n",
            "6\u001b[01;31m\u001b[K1\u001b[m\u001b[K\n",
            "7\u001b[01;31m\u001b[K1\u001b[m\u001b[K\n",
            "8\u001b[01;31m\u001b[K1\u001b[m\u001b[K\n",
            "9\u001b[01;31m\u001b[K1\u001b[m\u001b[K\n"
          ],
          "name": "stdout"
        }
      ]
    },
    {
      "cell_type": "code",
      "metadata": {
        "scrolled": true,
        "id": "8N06DsJMsx0R",
        "colab_type": "code",
        "outputId": "af7cb3d4-398f-41cd-8656-91ace4946cce",
        "colab": {}
      },
      "source": [
        "seq 100 | grep ^1  # imprime los números del 1 al 100 que empiezan con 1."
      ],
      "execution_count": 0,
      "outputs": [
        {
          "output_type": "stream",
          "text": [
            "\u001b[01;31m\u001b[K1\u001b[m\u001b[K\n",
            "\u001b[01;31m\u001b[K1\u001b[m\u001b[K0\n",
            "\u001b[01;31m\u001b[K1\u001b[m\u001b[K1\n",
            "\u001b[01;31m\u001b[K1\u001b[m\u001b[K2\n",
            "\u001b[01;31m\u001b[K1\u001b[m\u001b[K3\n",
            "\u001b[01;31m\u001b[K1\u001b[m\u001b[K4\n",
            "\u001b[01;31m\u001b[K1\u001b[m\u001b[K5\n",
            "\u001b[01;31m\u001b[K1\u001b[m\u001b[K6\n",
            "\u001b[01;31m\u001b[K1\u001b[m\u001b[K7\n",
            "\u001b[01;31m\u001b[K1\u001b[m\u001b[K8\n",
            "\u001b[01;31m\u001b[K1\u001b[m\u001b[K9\n",
            "\u001b[01;31m\u001b[K1\u001b[m\u001b[K00\n"
          ],
          "name": "stdout"
        }
      ]
    },
    {
      "cell_type": "markdown",
      "metadata": {
        "id": "n4WRmMp_sx0T",
        "colab_type": "text"
      },
      "source": [
        "La combinación de los comandos anteriores permiten realizar operaciones complejas. En el siguiente ejemplo se obtiene la cantidad de números del 1 al 20 que contienen un `'1'`."
      ]
    },
    {
      "cell_type": "code",
      "metadata": {
        "scrolled": false,
        "id": "BQmQPqiisx0T",
        "colab_type": "code",
        "outputId": "0fc6560e-a6b9-4de2-91ff-a52d3a603429",
        "colab": {}
      },
      "source": [
        "seq 20 | grep 1 | wc -l"
      ],
      "execution_count": 0,
      "outputs": [
        {
          "output_type": "stream",
          "text": [
            "11\n"
          ],
          "name": "stdout"
        }
      ]
    },
    {
      "cell_type": "markdown",
      "metadata": {
        "id": "PdLr5F2-sx0U",
        "colab_type": "text"
      },
      "source": [
        "## Reemplazo de caracteres con tr"
      ]
    },
    {
      "cell_type": "markdown",
      "metadata": {
        "id": "fLc34S0_sx0V",
        "colab_type": "text"
      },
      "source": [
        "También existen comandos para manipular textos. El comando `tr` permite cambiar una cadena de texto por otra. "
      ]
    },
    {
      "cell_type": "code",
      "metadata": {
        "scrolled": true,
        "id": "JoeBKb91sx0W",
        "colab_type": "code",
        "outputId": "f0f3b9f2-2f68-49c6-bb56-709c950f9df3",
        "colab": {}
      },
      "source": [
        "echo 'h-o-l-a- -m-u-n-d-o' > out.1\n",
        "tr -d '-'  < out.1 # borra los caracteres '-'."
      ],
      "execution_count": 0,
      "outputs": [
        {
          "output_type": "stream",
          "text": [
            "hola mundo\n"
          ],
          "name": "stdout"
        }
      ]
    },
    {
      "cell_type": "code",
      "metadata": {
        "scrolled": true,
        "id": "WEfYRsZSsx0Z",
        "colab_type": "code",
        "outputId": "9e8754e9-4669-4bdc-a696-094d2e96fae9",
        "colab": {}
      },
      "source": [
        "echo 'h-o-l-a- -m-u-n-d-o' > out.1\n",
        "tr '-'  '=' < out.1  #  '-' por '='."
      ],
      "execution_count": 0,
      "outputs": [
        {
          "output_type": "stream",
          "text": [
            "h=o=l=a= =m=u=n=d=o\n"
          ],
          "name": "stdout"
        }
      ]
    },
    {
      "cell_type": "code",
      "metadata": {
        "scrolled": true,
        "id": "zxdnKFpvsx0a",
        "colab_type": "code",
        "outputId": "77d03505-1d76-4d9b-9e1b-43fc272fbf87",
        "colab": {}
      },
      "source": [
        "echo 'h-o-l-a- -m-u-n-d-o' > out.1\n",
        "tr '[:lower:]'  '[:upper:]' < out.1  # minúsculas a mayúsculas."
      ],
      "execution_count": 0,
      "outputs": [
        {
          "output_type": "stream",
          "text": [
            "H-O-L-A- -M-U-N-D-O\n"
          ],
          "name": "stdout"
        }
      ]
    },
    {
      "cell_type": "markdown",
      "metadata": {
        "id": "UTuLkj86sx0e",
        "colab_type": "text"
      },
      "source": [
        "**Ejercicio.--** Para el siguiente archivo, convierta únicamente la primera fila a minúsculas."
      ]
    },
    {
      "cell_type": "code",
      "metadata": {
        "id": "XfrXphQesx0f",
        "colab_type": "code",
        "colab": {}
      },
      "source": [
        "%%bash\n",
        "cat > out.1 <<EOF\n",
        "Date, Year, CustomerID, Value\n",
        "2013-01-12, 2013, 1, 100\n",
        "2014-05-12, 2014, 1, 100\n",
        "2013-02-25, 2013, 2, 200\n",
        "2013-04-04, 2013, 1, 100\n",
        "2013-06-21, 2013, 2, 200\n",
        "2014-05-12, 2014, 1, 100\n",
        "2014-05-12, 2014, 2, 200\n",
        "2013-02-28, 2013, 1, 100\n",
        "2013-08-02, 2013, 1, 100\n",
        "EOF"
      ],
      "execution_count": 0,
      "outputs": []
    },
    {
      "cell_type": "code",
      "metadata": {
        "id": "gTIva-tjAoXn",
        "colab_type": "code",
        "colab": {
          "base_uri": "https://localhost:8080/",
          "height": 194
        },
        "outputId": "dc3719c0-15a3-4b3d-a55b-863066cc3545"
      },
      "source": [
        "%%bash\n",
        "cat out.1 | head -n 1 | tr '[:upper:]' '[:lower:]' > out.2\n",
        "cat out.1 | tail +2 > out.3\n",
        "cat out.2 out.3"
      ],
      "execution_count": 35,
      "outputs": [
        {
          "output_type": "stream",
          "text": [
            "date, year, customerid, value\n",
            "2013-01-12, 2013, 1, 100\n",
            "2014-05-12, 2014, 1, 100\n",
            "2013-02-25, 2013, 2, 200\n",
            "2013-04-04, 2013, 1, 100\n",
            "2013-06-21, 2013, 2, 200\n",
            "2014-05-12, 2014, 1, 100\n",
            "2014-05-12, 2014, 2, 200\n",
            "2013-02-28, 2013, 1, 100\n",
            "2013-08-02, 2013, 1, 100\n"
          ],
          "name": "stdout"
        }
      ]
    },
    {
      "cell_type": "markdown",
      "metadata": {
        "id": "SaA3idUhsx0g",
        "colab_type": "text"
      },
      "source": [
        "## Extracción de campos con cut"
      ]
    },
    {
      "cell_type": "markdown",
      "metadata": {
        "id": "xzUgs9basx0g",
        "colab_type": "text"
      },
      "source": [
        "El comando `cut` permite extraer porciones de texto de un archivo. En la última línea del código presentada a continuación, se extraen las posiciones 3, 4, y 5 de cada línea de texto de un archivo, indicándolas como un rango (`3-5`). "
      ]
    },
    {
      "cell_type": "code",
      "metadata": {
        "scrolled": true,
        "id": "l_6-L0Xzsx0h",
        "colab_type": "code",
        "outputId": "abff9d30-be6c-4d86-b53e-0e99d46aeed5",
        "colab": {}
      },
      "source": [
        "echo \"123456790\n",
        "abcdefghi\n",
        "jklmnopqr\" > out.1\n",
        "cut -c3-5 out.1  "
      ],
      "execution_count": 0,
      "outputs": [
        {
          "output_type": "stream",
          "text": [
            "345\n",
            "cde\n",
            "lmn\n"
          ],
          "name": "stdout"
        }
      ]
    },
    {
      "cell_type": "markdown",
      "metadata": {
        "id": "i73CKik7sx0i",
        "colab_type": "text"
      },
      "source": [
        "Las columnas también pueden indicarse por posición:"
      ]
    },
    {
      "cell_type": "code",
      "metadata": {
        "scrolled": false,
        "id": "qQZXbEvJsx0i",
        "colab_type": "code",
        "outputId": "0596b6b5-303c-47dc-d6df-81aa3dab7d2e",
        "colab": {}
      },
      "source": [
        "cut -c3,4,5 out.1 "
      ],
      "execution_count": 0,
      "outputs": [
        {
          "output_type": "stream",
          "text": [
            "345\n",
            "cde\n",
            "lmn\n"
          ],
          "name": "stdout"
        }
      ]
    },
    {
      "cell_type": "code",
      "metadata": {
        "scrolled": true,
        "id": "D4hEh9cesx0k",
        "colab_type": "code",
        "outputId": "a403f1e5-a08d-4a18-bd89-bcf55612323a",
        "colab": {}
      },
      "source": [
        "# caracteres en las posiciones 2 y 5 a 7 de cada línea de un archivo.\n",
        "cut -c2,5-7 out.1 "
      ],
      "execution_count": 0,
      "outputs": [
        {
          "output_type": "stream",
          "text": [
            "2567\n",
            "befg\n",
            "knop\n"
          ],
          "name": "stdout"
        }
      ]
    },
    {
      "cell_type": "markdown",
      "metadata": {
        "id": "mhRBLLy7sx0l",
        "colab_type": "text"
      },
      "source": [
        "`cut` también permite manipular archivos delimitados. "
      ]
    },
    {
      "cell_type": "code",
      "metadata": {
        "scrolled": true,
        "id": "0KMtAzbcsx0l",
        "colab_type": "code",
        "colab": {}
      },
      "source": [
        "cat > out.1 <<EOF\n",
        "FieldA, FieldD, FieldE\n",
        "   2, X, 2X\n",
        "   3, Y, 3Y\n",
        "   4, Z, 4Z \n",
        "EOF"
      ],
      "execution_count": 0,
      "outputs": []
    },
    {
      "cell_type": "markdown",
      "metadata": {
        "id": "QFrcaNHKsx0n",
        "colab_type": "text"
      },
      "source": [
        "En el siguiente ejemplo se extrae la segunda columna (`-f2`); se indica que el archivo está delimitado por comas (`-d,`)."
      ]
    },
    {
      "cell_type": "code",
      "metadata": {
        "scrolled": true,
        "id": "5UhfC_wbsx0p",
        "colab_type": "code",
        "outputId": "8a7382ad-16c8-4ea2-c1be-c00a89d5ce93",
        "colab": {}
      },
      "source": [
        "cut -d, -f2 out.1   "
      ],
      "execution_count": 0,
      "outputs": [
        {
          "output_type": "stream",
          "text": [
            " FieldD\n",
            " X\n",
            " Y\n",
            " Z\n"
          ],
          "name": "stdout"
        }
      ]
    },
    {
      "cell_type": "code",
      "metadata": {
        "scrolled": true,
        "id": "9Kj1ZWRRsx0q",
        "colab_type": "code",
        "outputId": "cc018c81-8399-444c-adf6-e174b7e7ed65",
        "colab": {}
      },
      "source": [
        "# este código extrae las columnas 1 y 3\n",
        "cut -d, -f1,3 out.1  "
      ],
      "execution_count": 0,
      "outputs": [
        {
          "output_type": "stream",
          "text": [
            "FieldA, FieldE\n",
            "   2, 2X\n",
            "   3, 3Y\n",
            "   4, 4Z \n"
          ],
          "name": "stdout"
        }
      ]
    },
    {
      "cell_type": "markdown",
      "metadata": {
        "id": "Cs3WKHugsx0r",
        "colab_type": "text"
      },
      "source": [
        "Se puede usar cualquier caracter como delimitador. En el siguiente ejemplo se desean extraer los caracteres entre `'['` y `']'`."
      ]
    },
    {
      "cell_type": "code",
      "metadata": {
        "scrolled": true,
        "id": "BqjIWYZrsx0s",
        "colab_type": "code",
        "outputId": "2f4a79f9-22fc-4e7f-8309-b2cb2ce6c853",
        "colab": {
          "base_uri": "https://localhost:8080/",
          "height": 123
        }
      },
      "source": [
        "%%bash\n",
        "seq -f\"--> [%g] <--\" 3 > out.1\n",
        "seq -f\"------> [%g] <------\" 3 >> out.1\n",
        "cat out.1"
      ],
      "execution_count": 55,
      "outputs": [
        {
          "output_type": "stream",
          "text": [
            "--> [1] <--\n",
            "--> [2] <--\n",
            "--> [3] <--\n",
            "------> [1] <------\n",
            "------> [2] <------\n",
            "------> [3] <------\n"
          ],
          "name": "stdout"
        }
      ]
    },
    {
      "cell_type": "code",
      "metadata": {
        "scrolled": true,
        "id": "XeoCqQTXsx0t",
        "colab_type": "code",
        "outputId": "8991c186-f4cb-4b91-910d-fee5c5208fb3",
        "colab": {
          "base_uri": "https://localhost:8080/",
          "height": 123
        }
      },
      "source": [
        "%%bash\n",
        "# extrae la porción de texto después de '[' \n",
        "cut -d'[' -f2 out.1 "
      ],
      "execution_count": 70,
      "outputs": [
        {
          "output_type": "stream",
          "text": [
            "1] <--\n",
            "2] <--\n",
            "3] <--\n",
            "1] <------\n",
            "2] <------\n",
            "3] <------\n"
          ],
          "name": "stdout"
        }
      ]
    },
    {
      "cell_type": "markdown",
      "metadata": {
        "id": "tDv8Kphtsx0v",
        "colab_type": "text"
      },
      "source": [
        "Extrae la porción de texto antes de ']' "
      ]
    },
    {
      "cell_type": "code",
      "metadata": {
        "scrolled": true,
        "id": "obnkvneisx0v",
        "colab_type": "code",
        "outputId": "fd3fe603-a280-4d84-9cf9-a882a51985ff",
        "colab": {
          "base_uri": "https://localhost:8080/",
          "height": 123
        }
      },
      "source": [
        "%%bash\n",
        "cut -d']' -f1 out.1  "
      ],
      "execution_count": 69,
      "outputs": [
        {
          "output_type": "stream",
          "text": [
            "--> [1\n",
            "--> [2\n",
            "--> [3\n",
            "------> [1\n",
            "------> [2\n",
            "------> [3\n"
          ],
          "name": "stdout"
        }
      ]
    },
    {
      "cell_type": "markdown",
      "metadata": {
        "id": "Jx1Sbti_sx0x",
        "colab_type": "text"
      },
      "source": [
        "Se combinan los dos comandos anteriores"
      ]
    },
    {
      "cell_type": "code",
      "metadata": {
        "scrolled": true,
        "id": "rPvyoIYKsx0x",
        "colab_type": "code",
        "outputId": "14f0eee9-7b13-43c5-9d5d-8b0b8bd9f052",
        "colab": {
          "base_uri": "https://localhost:8080/",
          "height": 123
        }
      },
      "source": [
        "!cut -d'[' -f2 out.1 | cut -d']' -f1 "
      ],
      "execution_count": 71,
      "outputs": [
        {
          "output_type": "stream",
          "text": [
            "1\n",
            "2\n",
            "3\n",
            "1\n",
            "2\n",
            "3\n"
          ],
          "name": "stdout"
        }
      ]
    },
    {
      "cell_type": "markdown",
      "metadata": {
        "id": "EMkF6aOjsx0z",
        "colab_type": "text"
      },
      "source": [
        "A continuación se extrae la segunda palabra de cada línea."
      ]
    },
    {
      "cell_type": "code",
      "metadata": {
        "scrolled": true,
        "id": "MzzXG5fMsx0z",
        "colab_type": "code",
        "outputId": "1d196f7c-30e7-4f60-ccfc-95e7334df872",
        "colab": {}
      },
      "source": [
        "echo \"Bash is a Unix shell and command language \n",
        "written by Brian Fox for the \n",
        "GNU Project as a free software \n",
        "replacement for the Bourne shell.\" > out.1\n",
        "cat out.1"
      ],
      "execution_count": 0,
      "outputs": [
        {
          "output_type": "stream",
          "text": [
            "Bash is a Unix shell and command language \n",
            "written by Brian Fox for the \n",
            "GNU Project as a free software \n",
            "replacement for the Bourne shell.\n"
          ],
          "name": "stdout"
        }
      ]
    },
    {
      "cell_type": "code",
      "metadata": {
        "scrolled": true,
        "id": "giWl1HmMsx02",
        "colab_type": "code",
        "outputId": "b4e8fd52-63ac-4508-f70c-36d17e633d67",
        "colab": {}
      },
      "source": [
        "# el delimitador es el espacio en blanco\n",
        "cut -d' ' -f2 out.1 "
      ],
      "execution_count": 0,
      "outputs": [
        {
          "output_type": "stream",
          "text": [
            "is\n",
            "by\n",
            "Project\n",
            "for\n"
          ],
          "name": "stdout"
        }
      ]
    },
    {
      "cell_type": "markdown",
      "metadata": {
        "id": "dkOKKDAusx03",
        "colab_type": "text"
      },
      "source": [
        "## Borrado de columnas con colrm"
      ]
    },
    {
      "cell_type": "markdown",
      "metadata": {
        "id": "QgCHlD4fsx03",
        "colab_type": "text"
      },
      "source": [
        "Este comando remueve los caracteres comprendidos entre las columnas especificadas."
      ]
    },
    {
      "cell_type": "code",
      "metadata": {
        "id": "QK57pLYysx04",
        "colab_type": "code",
        "outputId": "440f8998-0893-4ae4-a46c-a8ed7ad363ef",
        "colab": {}
      },
      "source": [
        "echo \"123456790\n",
        "abcdefghi\n",
        "jklmnopqr\" > out.1\n",
        "colrm 3 5 < out.1  "
      ],
      "execution_count": 0,
      "outputs": [
        {
          "output_type": "stream",
          "text": [
            "126790\n",
            "abfghi\n",
            "jkopqr\n"
          ],
          "name": "stdout"
        }
      ]
    },
    {
      "cell_type": "markdown",
      "metadata": {
        "id": "Ki-eN-6Bsx05",
        "colab_type": "text"
      },
      "source": [
        "Si no se especifica la columna final, `colrm` borra hasta el final de la línea."
      ]
    },
    {
      "cell_type": "code",
      "metadata": {
        "id": "cTqX46Ycsx05",
        "colab_type": "code",
        "outputId": "867da733-1e54-43ca-deaa-a34d89b012d5",
        "colab": {}
      },
      "source": [
        "colrm 3 < out.1"
      ],
      "execution_count": 0,
      "outputs": [
        {
          "output_type": "stream",
          "text": [
            "12\n",
            "ab\n",
            "jk\n"
          ],
          "name": "stdout"
        }
      ]
    },
    {
      "cell_type": "markdown",
      "metadata": {
        "id": "inZPXccBsx07",
        "colab_type": "text"
      },
      "source": [
        "## Unión de archivos con join"
      ]
    },
    {
      "cell_type": "markdown",
      "metadata": {
        "id": "jFLjbMGbsx07",
        "colab_type": "text"
      },
      "source": [
        "Un problema típico en transformación de datos es tener que combinar dos archivos usando un campo clave. Tal como ya se ha ejemplificado en este documento, en muchos casos los archivos de texto son equivalentes a las tablas en los sistemas de bases de datos relacionales. El problema en cuestión es el siguiente: existe un archivo `out.1`:"
      ]
    },
    {
      "cell_type": "code",
      "metadata": {
        "id": "uN5blOUdsx08",
        "colab_type": "code",
        "colab": {}
      },
      "source": [
        "cat > out.1 <<EOF\n",
        "key, F1, F2\n",
        "  1, 11, 12\n",
        "  2, 21, 22\n",
        "  4, 41, 42\n",
        "EOF"
      ],
      "execution_count": 0,
      "outputs": []
    },
    {
      "cell_type": "markdown",
      "metadata": {
        "id": "7KBO3xzBsx0_",
        "colab_type": "text"
      },
      "source": [
        "y un archivo `out.2`:"
      ]
    },
    {
      "cell_type": "code",
      "metadata": {
        "id": "cOG2L3Fvsx0_",
        "colab_type": "code",
        "colab": {}
      },
      "source": [
        "cat > out.2 <<EOF\n",
        "key, F3, F4\n",
        "  1, 13, 14\n",
        "  2, 23, 24\n",
        "  3, 33, 34 \n",
        "EOF"
      ],
      "execution_count": 0,
      "outputs": []
    },
    {
      "cell_type": "markdown",
      "metadata": {
        "id": "9J7YpSaQsx1B",
        "colab_type": "text"
      },
      "source": [
        "La primera columna es la clave; los valores de los campos corresponden a la posición del elemento, es decir, el valor `13` corresponde al registro `1` y al campo `3`."
      ]
    },
    {
      "cell_type": "markdown",
      "metadata": {
        "id": "c3unf3rTsx1B",
        "colab_type": "text"
      },
      "source": [
        "El comando `join` permite unir las líneas de ambos archivos usando el campo designado como clave. `join` no agrega el último registro de `out.1`, ya que no existe este registro en el archivo `out.2`"
      ]
    },
    {
      "cell_type": "code",
      "metadata": {
        "scrolled": true,
        "id": "DSYTo5Fhsx1C",
        "colab_type": "code",
        "outputId": "84b8eaee-261c-4053-c685-1725343b5ada",
        "colab": {}
      },
      "source": [
        "# agrega out.2 a out.1 usando como clave el primer campo (por defecto)\n",
        "join -t, out.1 out.2 "
      ],
      "execution_count": 0,
      "outputs": [
        {
          "output_type": "stream",
          "text": [
            "key, F1, F2, F3, F4\n",
            "  1, 11, 12, 13, 14\n",
            "  2, 21, 22, 23, 24\n"
          ],
          "name": "stdout"
        }
      ]
    },
    {
      "cell_type": "markdown",
      "metadata": {
        "id": "lpNX0lotsx1D",
        "colab_type": "text"
      },
      "source": [
        "Se puede especificar el campo de unión con las opciones `-1` para indicar el campo clave del primer archivo y `-2` para indicar el campo clave del segundo archivo."
      ]
    },
    {
      "cell_type": "code",
      "metadata": {
        "scrolled": false,
        "id": "AwEEYVMtsx1E",
        "colab_type": "code",
        "outputId": "497ec07a-59a8-455a-e54c-7ef05f061164",
        "colab": {}
      },
      "source": [
        "join -1 1 -2 1 -t, out.2 out.1 "
      ],
      "execution_count": 0,
      "outputs": [
        {
          "output_type": "stream",
          "text": [
            "key, F3, F4, F1, F2\n",
            "  1, 13, 14, 11, 12\n",
            "  2, 23, 24, 21, 22\n"
          ],
          "name": "stdout"
        }
      ]
    },
    {
      "cell_type": "markdown",
      "metadata": {
        "id": "Is_MKDCYsx1G",
        "colab_type": "text"
      },
      "source": [
        "Adicionalmente, se pueden indicar los campos de salida con la opción `-o`. En el siguiente ejemplo, `1.2` representa el campo 2 del archivo 1."
      ]
    },
    {
      "cell_type": "code",
      "metadata": {
        "scrolled": true,
        "id": "4Jl1jow-sx1G",
        "colab_type": "code",
        "outputId": "344bdf27-a4dd-47a8-f51f-ae904005b0ce",
        "colab": {}
      },
      "source": [
        "join -t, -o1.2,2.3 out.1 out.2 "
      ],
      "execution_count": 0,
      "outputs": [
        {
          "output_type": "stream",
          "text": [
            " F1, F4\n",
            " 11, 14\n",
            " 21, 24\n"
          ],
          "name": "stdout"
        }
      ]
    },
    {
      "cell_type": "code",
      "metadata": {
        "scrolled": true,
        "id": "Os7iKbcMsx1H",
        "colab_type": "code",
        "outputId": "0762fc54-061f-4923-82a5-0921e793cb9d",
        "colab": {}
      },
      "source": [
        "join -t, -o'0, 1.2, 2.3' out.1 out.2 "
      ],
      "execution_count": 0,
      "outputs": [
        {
          "output_type": "stream",
          "text": [
            "join: invalid file number in field spec: ‘’\n"
          ],
          "name": "stdout"
        },
        {
          "output_type": "error",
          "ename": "",
          "evalue": "1",
          "traceback": []
        }
      ]
    },
    {
      "cell_type": "markdown",
      "metadata": {
        "id": "aZCJzKmDsx1I",
        "colab_type": "text"
      },
      "source": [
        "La opción `-v` se usa para que `join` imprima los registros que solo aparecen en uno solo de los archivos."
      ]
    },
    {
      "cell_type": "markdown",
      "metadata": {
        "id": "IpBdRFq4sx1I",
        "colab_type": "text"
      },
      "source": [
        "El siguiente comando imprime los registros de `out.1` cuya clave no aparece en `out.2`:"
      ]
    },
    {
      "cell_type": "code",
      "metadata": {
        "scrolled": true,
        "id": "ma04pj-Hsx1J",
        "colab_type": "code",
        "outputId": "aa32ed68-d610-4485-e0b2-cfe37f9ad361",
        "colab": {}
      },
      "source": [
        "join -t, -v 1 out.1 out.2"
      ],
      "execution_count": 0,
      "outputs": [
        {
          "output_type": "stream",
          "text": [
            "  4, 41, 42\n"
          ],
          "name": "stdout"
        }
      ]
    },
    {
      "cell_type": "markdown",
      "metadata": {
        "id": "kF0l2Q5-sx1K",
        "colab_type": "text"
      },
      "source": [
        "De forma equivalente, los registros de `out.2` que no están en `out.1` se obtienen con"
      ]
    },
    {
      "cell_type": "code",
      "metadata": {
        "id": "VxhmRUxFsx1K",
        "colab_type": "code",
        "outputId": "b70c28cb-9e57-40a2-e941-5891e63bbbcc",
        "colab": {}
      },
      "source": [
        "join -t, -v 2 out.1 out.2"
      ],
      "execution_count": 0,
      "outputs": [
        {
          "output_type": "stream",
          "text": [
            "  3, 33, 34 \n"
          ],
          "name": "stdout"
        }
      ]
    },
    {
      "cell_type": "markdown",
      "metadata": {
        "id": "42YP84Shsx1N",
        "colab_type": "text"
      },
      "source": [
        "Los comandos anteriores se pueden combinar en uno solo:"
      ]
    },
    {
      "cell_type": "code",
      "metadata": {
        "id": "03TMEwVnsx1O",
        "colab_type": "code",
        "outputId": "df95ba19-7621-4f7a-f145-488190f3c9a1",
        "colab": {}
      },
      "source": [
        "join -t, -v 1 -v 2 out.1 out.2"
      ],
      "execution_count": 0,
      "outputs": [
        {
          "output_type": "stream",
          "text": [
            "  3, 33, 34 \n",
            "  4, 41, 42\n"
          ],
          "name": "stdout"
        }
      ]
    },
    {
      "cell_type": "markdown",
      "metadata": {
        "id": "JdwHyjb4sx1P",
        "colab_type": "text"
      },
      "source": [
        "Para que en la combinación se incluyan los registros sin clave en alguno de los archivo se usa la opción `-a`. Por ejemplo,"
      ]
    },
    {
      "cell_type": "code",
      "metadata": {
        "id": "QvjetOXNsx1Q",
        "colab_type": "code",
        "outputId": "712c2fc5-6b7e-4b27-ee7d-8099cdf6ab43",
        "colab": {}
      },
      "source": [
        "join -a 1 -t, out.1 out.2 "
      ],
      "execution_count": 0,
      "outputs": [
        {
          "output_type": "stream",
          "text": [
            "key, F1, F2, F3, F4\n",
            "  1, 11, 12, 13, 14\n",
            "  2, 21, 22, 23, 24\n",
            "  4, 41, 42\n"
          ],
          "name": "stdout"
        }
      ]
    },
    {
      "cell_type": "code",
      "metadata": {
        "id": "nvXTRC7rsx1T",
        "colab_type": "code",
        "outputId": "3c50389d-ddc8-4131-e415-19338fd6a94e",
        "colab": {}
      },
      "source": [
        "join -a 2 -t, out.1 out.2 "
      ],
      "execution_count": 0,
      "outputs": [
        {
          "output_type": "stream",
          "text": [
            "key, F1, F2, F3, F4\n",
            "  1, 11, 12, 13, 14\n",
            "  2, 21, 22, 23, 24\n",
            "  3, 33, 34 \n"
          ],
          "name": "stdout"
        }
      ]
    },
    {
      "cell_type": "markdown",
      "metadata": {
        "id": "Z-R4WBV5sx1U",
        "colab_type": "text"
      },
      "source": [
        "La opción `-e` se usa para indicar la cadena de texto que se agrega a los campos de los registros para los cuales no hay valores."
      ]
    },
    {
      "cell_type": "code",
      "metadata": {
        "id": "TggaLMHUsx1U",
        "colab_type": "code",
        "outputId": "0c880583-e252-4170-a768-6fef8a94c63e",
        "colab": {}
      },
      "source": [
        "join -a 1 -a 2 -e NA -t,   out.1 out.2 "
      ],
      "execution_count": 0,
      "outputs": [
        {
          "output_type": "stream",
          "text": [
            "key, F1, F2, F3, F4\n",
            "  1, 11, 12, 13, 14\n",
            "  2, 21, 22, 23, 24\n",
            "  3, 33, 34 \n",
            "  4, 41, 42\n"
          ],
          "name": "stdout"
        }
      ]
    },
    {
      "cell_type": "markdown",
      "metadata": {
        "id": "xlEbMkudsx1V",
        "colab_type": "text"
      },
      "source": [
        "## Pegado de archivos con paste"
      ]
    },
    {
      "cell_type": "markdown",
      "metadata": {
        "id": "4Tl_X1lusx1V",
        "colab_type": "text"
      },
      "source": [
        "El comando `paste` permite pegar un archivo con otro, uniendo la primera linea de ambos archivos, luego la segunda y así sucesivamente."
      ]
    },
    {
      "cell_type": "code",
      "metadata": {
        "scrolled": true,
        "id": "Zt5bzPVmsx1W",
        "colab_type": "code",
        "outputId": "c5463434-c7ed-412d-f9a7-a29683433060",
        "colab": {}
      },
      "source": [
        "seq -f'linea %g' 5 > out.1; cat out.1"
      ],
      "execution_count": 0,
      "outputs": [
        {
          "output_type": "stream",
          "text": [
            "linea 1\n",
            "linea 2\n",
            "linea 3\n",
            "linea 4\n",
            "linea 5\n"
          ],
          "name": "stdout"
        }
      ]
    },
    {
      "cell_type": "code",
      "metadata": {
        "scrolled": true,
        "id": "EE917VwCsx1X",
        "colab_type": "code",
        "outputId": "58a61070-2579-4b11-dd50-19810a7c6849",
        "colab": {}
      },
      "source": [
        "seq -f'linea %g' 6 1 10 > out.2; cat out.2"
      ],
      "execution_count": 0,
      "outputs": [
        {
          "output_type": "stream",
          "text": [
            "linea 6\n",
            "linea 7\n",
            "linea 8\n",
            "linea 9\n",
            "linea 10\n"
          ],
          "name": "stdout"
        }
      ]
    },
    {
      "cell_type": "code",
      "metadata": {
        "scrolled": false,
        "id": "t028ubhAsx1Z",
        "colab_type": "code",
        "outputId": "76db04ac-9f10-4bbe-f50b-9ec835192180",
        "colab": {}
      },
      "source": [
        "paste -d'-' out.1 out.2"
      ],
      "execution_count": 0,
      "outputs": [
        {
          "output_type": "stream",
          "text": [
            "linea 1-linea 6\n",
            "linea 2-linea 7\n",
            "linea 3-linea 8\n",
            "linea 4-linea 9\n",
            "linea 5-linea 10\n"
          ],
          "name": "stdout"
        }
      ]
    },
    {
      "cell_type": "markdown",
      "metadata": {
        "id": "Sur9WWn2sx1c",
        "colab_type": "text"
      },
      "source": [
        "**Borrado de los archivos temporales generados**"
      ]
    },
    {
      "cell_type": "code",
      "metadata": {
        "id": "Fjyf7OF1sx1c",
        "colab_type": "code",
        "colab": {}
      },
      "source": [
        "!rm out*"
      ],
      "execution_count": 0,
      "outputs": []
    }
  ]
}