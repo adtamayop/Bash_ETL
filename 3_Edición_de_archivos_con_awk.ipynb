{
  "nbformat": 4,
  "nbformat_minor": 0,
  "metadata": {
    "kernel_info": {
      "name": "bash"
    },
    "kernelspec": {
      "display_name": "Bash",
      "language": "bash",
      "name": "bash"
    },
    "language_info": {
      "codemirror_mode": "shell",
      "file_extension": ".sh",
      "mimetype": "text/x-sh",
      "name": "bash"
    },
    "nteract": {
      "version": "0.12.3"
    },
    "colab": {
      "name": "3_Edición_de_archivos_con_awk.ipynb",
      "provenance": [],
      "include_colab_link": true
    }
  },
  "cells": [
    {
      "cell_type": "markdown",
      "metadata": {
        "id": "view-in-github",
        "colab_type": "text"
      },
      "source": [
        "<a href=\"https://colab.research.google.com/github/adtamayop/ETL/blob/master/3_Edici%C3%B3n_de_archivos_con_awk.ipynb\" target=\"_parent\"><img src=\"https://colab.research.google.com/assets/colab-badge.svg\" alt=\"Open In Colab\"/></a>"
      ]
    },
    {
      "cell_type": "markdown",
      "metadata": {
        "id": "quHHNmkbcak3",
        "colab_type": "text"
      },
      "source": [
        "Edición de archivos con awk\n",
        "===\n"
      ]
    },
    {
      "cell_type": "markdown",
      "metadata": {
        "id": "3uWnXGk5cak4",
        "colab_type": "text"
      },
      "source": [
        "`awk` es un comando para Unix creado para el procesamiento y reporte de archivos de texto que contengan varios campos de datos en una misma línea. Se considera que `awk` es una evolución de `sed`. Su uso básico es: \n",
        "\n",
        "    awk [condición] '{printf\"formato\", argumentos}' filename\n"
      ]
    },
    {
      "cell_type": "markdown",
      "metadata": {
        "id": "yhtp7nYWcak4",
        "colab_type": "text"
      },
      "source": [
        "## Manual y ayuda en línea"
      ]
    },
    {
      "cell_type": "markdown",
      "metadata": {
        "id": "ccMWl-2tcak5",
        "colab_type": "text"
      },
      "source": [
        "* Manual: https://www.gnu.org/software/gawk/manual/gawk.html\n",
        "\n",
        "* Ayuda:\n",
        "```bash\n",
        "man awk\n",
        "```"
      ]
    },
    {
      "cell_type": "markdown",
      "metadata": {
        "id": "3DAWr2mxcak5",
        "colab_type": "text"
      },
      "source": [
        "## Tutorial básico"
      ]
    },
    {
      "cell_type": "markdown",
      "metadata": {
        "id": "zF3ETVA0cak6",
        "colab_type": "text"
      },
      "source": [
        "**Algunos comandos importantes**:\n",
        "\n",
        "* `$0`     -> Todos los campos\n",
        "* `FS`     -> Separador de campos (TAB por defecto)\n",
        "* `NF`     -> Número de campos en la linea actual\n",
        "* `NR`     -> Número de lineas en el archivo a procesar\n",
        "* `Length`     -> Longitud de la linea a procesar\n",
        "* `&&`     -> Operación lógica para la intersección\n",
        "* `||`     -> Operación lógica para la unión"
      ]
    },
    {
      "cell_type": "markdown",
      "metadata": {
        "id": "OktzMY4mcak7",
        "colab_type": "text"
      },
      "source": [
        "### Impresión de líneas específicias"
      ]
    },
    {
      "cell_type": "code",
      "metadata": {
        "id": "RIQmKbVtcak7",
        "colab_type": "code",
        "colab": {}
      },
      "source": [
        "%%bash\n",
        "## se imprimen los primeros 30 números a un archivo\n",
        "seq 30 > out.1"
      ],
      "execution_count": 0,
      "outputs": []
    },
    {
      "cell_type": "code",
      "metadata": {
        "id": "4zxmzqCncak9",
        "colab_type": "code",
        "colab": {
          "base_uri": "https://localhost:8080/",
          "height": 34
        },
        "outputId": "773588b7-3c75-4d5e-9efd-3fffb14871ff"
      },
      "source": [
        "%%bash\n",
        "## imprime la línea 3\n",
        "awk 'NR == 3 {print}' out.1"
      ],
      "execution_count": 3,
      "outputs": [
        {
          "output_type": "stream",
          "text": [
            "3\n"
          ],
          "name": "stdout"
        }
      ]
    },
    {
      "cell_type": "code",
      "metadata": {
        "id": "XQO1dCsMcalA",
        "colab_type": "code",
        "colab": {},
        "outputId": "2f008d0e-1689-4605-9b51-a8a6cb25ac40"
      },
      "source": [
        "## imprime las líneas 3 a 6\n",
        "awk '(NR >= 3) && (NR <= 6) {print $0}' out.1"
      ],
      "execution_count": 0,
      "outputs": [
        {
          "output_type": "stream",
          "text": [
            "3\n",
            "4\n",
            "5\n",
            "6\n"
          ],
          "name": "stdout"
        }
      ]
    },
    {
      "cell_type": "code",
      "metadata": {
        "id": "SSG_4saYcalC",
        "colab_type": "code",
        "colab": {},
        "outputId": "db405ea3-5f75-4c9f-b7f2-4d2499e2454f"
      },
      "source": [
        "## imprime las líneas 3 a 6 y 11 a 13\n",
        "awk '((NR >= 3) && (NR <= 6) || ((NR >= 11) && (NR <= 13)))  {print $0}' out.1"
      ],
      "execution_count": 0,
      "outputs": [
        {
          "output_type": "stream",
          "text": [
            "3\n",
            "4\n",
            "5\n",
            "6\n",
            "11\n",
            "12\n",
            "13\n"
          ],
          "name": "stdout"
        }
      ]
    },
    {
      "cell_type": "markdown",
      "metadata": {
        "id": "5Vu9wNfccalE",
        "colab_type": "text"
      },
      "source": [
        "### Filtrado"
      ]
    },
    {
      "cell_type": "code",
      "metadata": {
        "scrolled": false,
        "id": "Vz6o3BOxcalF",
        "colab_type": "code",
        "colab": {},
        "outputId": "f0e27397-dbf7-48f7-de93-3d21907c2412"
      },
      "source": [
        "## Imprime las lineas que contengan un 1\n",
        "awk '/1/ {print}' out.1"
      ],
      "execution_count": 0,
      "outputs": [
        {
          "output_type": "stream",
          "text": [
            "1\n",
            "10\n",
            "11\n",
            "12\n",
            "13\n",
            "14\n",
            "15\n",
            "16\n",
            "17\n",
            "18\n",
            "19\n",
            "21\n"
          ],
          "name": "stdout"
        }
      ]
    },
    {
      "cell_type": "markdown",
      "metadata": {
        "id": "J91BGybFcalH",
        "colab_type": "text"
      },
      "source": [
        "La cadena `/1/` indica que la línea contenga un `1`, los `/` son delimitadores y la cadena `{print}` al final indica que se imprima la línea."
      ]
    },
    {
      "cell_type": "code",
      "metadata": {
        "id": "kd48KnLBcalI",
        "colab_type": "code",
        "colab": {},
        "outputId": "396f10c5-9d8a-45da-847d-4092c9d358c2"
      },
      "source": [
        "## Imprime las líneas que tengaun un 1 al final\n",
        "awk '/1$/ {print}' out.1"
      ],
      "execution_count": 0,
      "outputs": [
        {
          "output_type": "stream",
          "text": [
            "1\n",
            "11\n",
            "21\n"
          ],
          "name": "stdout"
        }
      ]
    },
    {
      "cell_type": "code",
      "metadata": {
        "id": "clpe7AeIcalK",
        "colab_type": "code",
        "colab": {},
        "outputId": "ea7b69ee-4386-4faf-bc77-44f6eadc6c31"
      },
      "source": [
        "## Imprime las líneas que tengan un 1 al inicio\n",
        "awk '/^1/ {print}' out.1"
      ],
      "execution_count": 0,
      "outputs": [
        {
          "output_type": "stream",
          "text": [
            "1\n",
            "10\n",
            "11\n",
            "12\n",
            "13\n",
            "14\n",
            "15\n",
            "16\n",
            "17\n",
            "18\n",
            "19\n"
          ],
          "name": "stdout"
        }
      ]
    },
    {
      "cell_type": "markdown",
      "metadata": {
        "id": "8dYla9qbcalN",
        "colab_type": "text"
      },
      "source": [
        "### Sustitución"
      ]
    },
    {
      "cell_type": "markdown",
      "metadata": {
        "id": "tc-RMq22calO",
        "colab_type": "text"
      },
      "source": [
        "En el archivo generado a continuación se desea substituir la `X` por `x`:"
      ]
    },
    {
      "cell_type": "code",
      "metadata": {
        "id": "SGpHiQMMcalO",
        "colab_type": "code",
        "colab": {}
      },
      "source": [
        "cat > out.1 <<EOF\n",
        "FieldA, fieldD, gieldE, FieldG\n",
        "   2, X, 2X, 2XG\n",
        "   2, Y, 2Y, 2YG \n",
        "   3, Y, 3Y, 3YG\n",
        "   3, X, 3X, 3XG\n",
        "   4, Z, 4Z, 3XG\n",
        "EOF"
      ],
      "execution_count": 0,
      "outputs": []
    },
    {
      "cell_type": "markdown",
      "metadata": {
        "id": "KvwBiu8KcalQ",
        "colab_type": "text"
      },
      "source": [
        "`awk` permite realizar sustituciones mediante el comando `gsub()` compuesto por una expresión regular que busca el patrón y el elemento que reemplazará o modificará el elemento encontrado. La `g`  indica que es global, en caso de que se requiera una sustitución local se debe utilizar la función `sub()`."
      ]
    },
    {
      "cell_type": "markdown",
      "metadata": {
        "id": "UEoXBtKQcalR",
        "colab_type": "text"
      },
      "source": [
        "En el siguiente código se sustituye únicamente la primera ocurrencia en cada línea del archivo:"
      ]
    },
    {
      "cell_type": "code",
      "metadata": {
        "id": "wfSH8GcmcalR",
        "colab_type": "code",
        "colab": {},
        "outputId": "515f1edc-a817-4992-b395-d75b84eaa561"
      },
      "source": [
        "## sustituye la primera ocurrencia de X por x en cada línea\n",
        "awk '{sub(/X/, \"x\"); print}' out.1"
      ],
      "execution_count": 0,
      "outputs": [
        {
          "output_type": "stream",
          "text": [
            "FieldA, fieldD, gieldE, FieldG\n",
            "   2, x, 2X, 2XG\n",
            "   2, Y, 2Y, 2YG \n",
            "   3, Y, 3Y, 3YG\n",
            "   3, x, 3X, 3XG\n",
            "   4, Z, 4Z, 3xG\n"
          ],
          "name": "stdout"
        }
      ]
    },
    {
      "cell_type": "markdown",
      "metadata": {
        "id": "BPGrCOTicalT",
        "colab_type": "text"
      },
      "source": [
        "Si se desean reemplazar todas las ocurrencias se usa `gsub`."
      ]
    },
    {
      "cell_type": "code",
      "metadata": {
        "id": "IB19TmupcalU",
        "colab_type": "code",
        "colab": {},
        "outputId": "c45626d9-5dc4-4bcc-b2ed-774083e2851c"
      },
      "source": [
        "## Sustituye todas las ocurrencias de X por x\n",
        "awk '{gsub(/X/, \"x\"); print}' out.1"
      ],
      "execution_count": 0,
      "outputs": [
        {
          "output_type": "stream",
          "text": [
            "FieldA, fieldD, gieldE, FieldG\n",
            "   2, x, 2x, 2xG\n",
            "   2, Y, 2Y, 2YG \n",
            "   3, Y, 3Y, 3YG\n",
            "   3, x, 3x, 3xG\n",
            "   4, Z, 4Z, 3xG\n"
          ],
          "name": "stdout"
        }
      ]
    },
    {
      "cell_type": "markdown",
      "metadata": {
        "id": "U1_arMyqcalW",
        "colab_type": "text"
      },
      "source": [
        "Se puede utiliza el comando `gsub` para varias sustituciones separandolo por `;`:"
      ]
    },
    {
      "cell_type": "code",
      "metadata": {
        "id": "3H-sTlvhcalX",
        "colab_type": "code",
        "colab": {},
        "outputId": "197755d2-96a8-477c-8da2-493d96ab8b83"
      },
      "source": [
        "awk '{gsub(/X/, \"x\"); gsub(/Y/, \"y\"); print}' out.1"
      ],
      "execution_count": 0,
      "outputs": [
        {
          "output_type": "stream",
          "text": [
            "FieldA, fieldD, gieldE, FieldG\n",
            "   2, x, 2x, 2xG\n",
            "   2, y, 2y, 2yG \n",
            "   3, y, 3y, 3yG\n",
            "   3, x, 3x, 3xG\n",
            "   4, Z, 4Z, 3xG\n"
          ],
          "name": "stdout"
        }
      ]
    },
    {
      "cell_type": "markdown",
      "metadata": {
        "id": "aYQpLNEncalZ",
        "colab_type": "text"
      },
      "source": [
        "### Extracción"
      ]
    },
    {
      "cell_type": "markdown",
      "metadata": {
        "id": "qx4hslkUcala",
        "colab_type": "text"
      },
      "source": [
        "La función `split` permite separar strings e incluir sus elementos en un array, el cual se recorre de acuerdo con la posición. Sigue la siguiente estructura:\n",
        "\n",
        "      split($0,nombre_arreglo,\"separador\")\n"
      ]
    },
    {
      "cell_type": "markdown",
      "metadata": {
        "id": "MyyuPuLMcala",
        "colab_type": "text"
      },
      "source": [
        "Sea el siguiente archivo:"
      ]
    },
    {
      "cell_type": "code",
      "metadata": {
        "id": "tgCnVF_5calb",
        "colab_type": "code",
        "colab": {}
      },
      "source": [
        "cat > out.1 <<EOF\n",
        "AAA-BBB-CCC\n",
        "DDD-EEE-FFF\n",
        "GGG-HHH-III\n",
        "EOF"
      ],
      "execution_count": 0,
      "outputs": []
    },
    {
      "cell_type": "markdown",
      "metadata": {
        "id": "ZDK1mdFtcald",
        "colab_type": "text"
      },
      "source": [
        "La segunda columna puede extraerse con:"
      ]
    },
    {
      "cell_type": "code",
      "metadata": {
        "id": "5Q15h3XCcald",
        "colab_type": "code",
        "colab": {},
        "outputId": "cfcb9cbe-a219-46d4-fcf1-5deae7527c70"
      },
      "source": [
        "## Parte la linea por los caracteres indicados y la asigna a una variable\n",
        "awk '{split($0,nombre,\"-\")} {print nombre[2]}' out.1"
      ],
      "execution_count": 0,
      "outputs": [
        {
          "output_type": "stream",
          "text": [
            "BBB\n",
            "EEE\n",
            "HHH\n"
          ],
          "name": "stdout"
        }
      ]
    },
    {
      "cell_type": "markdown",
      "metadata": {
        "id": "DKp2nmx_calf",
        "colab_type": "text"
      },
      "source": [
        "A continuación se presenta un ejemplo más complejo de modificación de un patrón. Sea el siguiente archivo:"
      ]
    },
    {
      "cell_type": "code",
      "metadata": {
        "id": "Yt653214calh",
        "colab_type": "code",
        "colab": {}
      },
      "source": [
        "cat > out.1 <<EOF\n",
        "Maria-1998:feb:2+M19\n",
        "David-1972:nov:25+J45\n",
        "Marco-2000:jun:4+V17\n",
        "EOF"
      ],
      "execution_count": 0,
      "outputs": []
    },
    {
      "cell_type": "markdown",
      "metadata": {
        "id": "kibG3Pk2calj",
        "colab_type": "text"
      },
      "source": [
        "Se desea formatear la fecha de nacimiento completa de la persona y su edad, es decir, la primera línea:\n",
        "\n",
        "```\n",
        "Maria-1998:feb:2+M19\n",
        "```\n",
        "\n",
        "debe cambiarse por:\n",
        "\n",
        "```\n",
        "Maria 1998-02-02 M 19\n",
        "```\n"
      ]
    },
    {
      "cell_type": "markdown",
      "metadata": {
        "id": "OLRcfNLVcalm",
        "colab_type": "text"
      },
      "source": [
        "La función `gensub` permite realizar busquedas a través de expresiones regulares y reemplazar dichos valores por elementos a elección de acuerdo con la frecuencia de coincidencia del patrón.\n",
        "\n",
        "\n",
        "El primer paso consiste en reemplazar ` : `  por  `-`."
      ]
    },
    {
      "cell_type": "code",
      "metadata": {
        "id": "mdtHiAxzcaln",
        "colab_type": "code",
        "colab": {},
        "outputId": "c22db73e-e522-4e65-f882-d6d0b6d59440"
      },
      "source": [
        "cat out.1"
      ],
      "execution_count": 0,
      "outputs": [
        {
          "output_type": "stream",
          "text": [
            "Maria-1998:feb:2+M19\n",
            "David-1972:nov:25+J45\n",
            "Marco-2000:jun:4+V17\n"
          ],
          "name": "stdout"
        }
      ]
    },
    {
      "cell_type": "code",
      "metadata": {
        "scrolled": true,
        "id": "yquhBmA_calr",
        "colab_type": "code",
        "colab": {},
        "outputId": "c85ca74c-c999-460d-d084-2c1b7b47a78d"
      },
      "source": [
        "awk '{print gensub(/\\:([a-zA-Z]*)/,\"-\"\"\\\\1\",1)}' out.1 > out.2\n",
        "cat out.2"
      ],
      "execution_count": 0,
      "outputs": [
        {
          "output_type": "stream",
          "text": [
            "Maria-1998-feb:2+M19\n",
            "David-1972-nov:25+J45\n",
            "Marco-2000-jun:4+V17\n"
          ],
          "name": "stdout"
        }
      ]
    },
    {
      "cell_type": "markdown",
      "metadata": {
        "id": "MC2DMnezcalt",
        "colab_type": "text"
      },
      "source": [
        "La explicación del comando anterior es la siguiente:\n",
        " \n",
        " \n",
        "Patrón entrada\n",
        "  \n",
        " * El caracter `/`  indica el inicio y el fin de la expresión regular.\n",
        " * Los caracteres `(` y `)` contienen la expresión, caracter o dígito que se desea guardar.\n",
        " * `[a-z]` indica una cadena.\n",
        " * El caracter `*` indica que existen cadenas luego de la expresión regular.\n",
        " \n",
        "Patrón salida\n",
        " * `\\\\\\1` primer elemento de la busqueda que fue guardado.\n",
        " \n",
        "Frecuencia\n",
        " * `1` se debe reemplazar cuando encuentre el patrón por primera vez."
      ]
    },
    {
      "cell_type": "code",
      "metadata": {
        "id": "upr6-aXEcalu",
        "colab_type": "code",
        "colab": {},
        "outputId": "bcd19542-0abc-44d4-b97e-0031eca61d30"
      },
      "source": [
        "awk '{print gensub(/:([0-9])/, \"-\\\\1\", 1)}' out.2 > out.3\n",
        "cat out.3"
      ],
      "execution_count": 0,
      "outputs": [
        {
          "output_type": "stream",
          "text": [
            "Maria-1998-feb-2+M19\n",
            "David-1972-nov-25+J45\n",
            "Marco-2000-jun-4+V17\n"
          ],
          "name": "stdout"
        }
      ]
    },
    {
      "cell_type": "code",
      "metadata": {
        "scrolled": true,
        "id": "IaDw7C8_calw",
        "colab_type": "code",
        "colab": {},
        "outputId": "8d79e09f-59a2-41ad-fef0-97689e61d4dd"
      },
      "source": [
        "awk '{print gensub(/-([0-9])*/, \"-0\\\\1\", 3)}' out.3 > out.4\n",
        "cat out.4"
      ],
      "execution_count": 0,
      "outputs": [
        {
          "output_type": "stream",
          "text": [
            "Maria-1998-feb-02+M19\n",
            "David-1972-nov-05+J45\n",
            "Marco-2000-jun-04+V17\n"
          ],
          "name": "stdout"
        }
      ]
    },
    {
      "cell_type": "code",
      "metadata": {
        "id": "vWxvokLgcal1",
        "colab_type": "code",
        "colab": {},
        "outputId": "09f55fb7-6894-4a9e-b41c-f4c205a4e533"
      },
      "source": [
        "awk '{print gensub(/+([A-Z])([0-9][0-9])/, \" \\\\1 \\\\2\", 1)}' out.4 > out.5\n",
        "cat out.5"
      ],
      "execution_count": 0,
      "outputs": [
        {
          "output_type": "stream",
          "text": [
            "Maria-1998-feb-02 M 19\n",
            "David-1972-nov-05 J 45\n",
            "Marco-2000-jun-04 V 17\n"
          ],
          "name": "stdout"
        }
      ]
    },
    {
      "cell_type": "code",
      "metadata": {
        "scrolled": true,
        "id": "7x-Q3-encal2",
        "colab_type": "code",
        "colab": {},
        "outputId": "73a4b476-f1e0-49b6-9eb4-971cbac7787e"
      },
      "source": [
        "awk '{sub(/-/, \" \"); print}' out.5 > out.6\n",
        "cat out.6"
      ],
      "execution_count": 0,
      "outputs": [
        {
          "output_type": "stream",
          "text": [
            "Maria 1998-feb-02 M 19\n",
            "David 1972-nov-05 J 45\n",
            "Marco 2000-jun-04 V 17\n"
          ],
          "name": "stdout"
        }
      ]
    },
    {
      "cell_type": "code",
      "metadata": {
        "id": "uOZ9YDCQcal4",
        "colab_type": "code",
        "colab": {},
        "outputId": "c466e73a-2eb3-4ef7-dd25-66d6aaf5360a"
      },
      "source": [
        "awk '{gsub(/feb/, \"02\"); gsub(/nov/, \"11\");gsub(/jun/, \"06\");print}' out.6"
      ],
      "execution_count": 0,
      "outputs": [
        {
          "output_type": "stream",
          "text": [
            "Maria 1998-02-02 M 19\n",
            "David 1972-11-05 J 45\n",
            "Marco 2000-06-04 V 17\n"
          ],
          "name": "stdout"
        }
      ]
    },
    {
      "cell_type": "markdown",
      "metadata": {
        "id": "vR9e7ELLcal6",
        "colab_type": "text"
      },
      "source": [
        "### Agregación de campos"
      ]
    },
    {
      "cell_type": "markdown",
      "metadata": {
        "id": "N5Eix3HEcal6",
        "colab_type": "text"
      },
      "source": [
        "Sea el siguiente archivo:"
      ]
    },
    {
      "cell_type": "code",
      "metadata": {
        "id": "TjL9g2pHcal7",
        "colab_type": "code",
        "colab": {}
      },
      "source": [
        "%%bash\n",
        "cat > out.1 <<EOF\n",
        "Date, Price, Quantity, CustomerID\n",
        "2013-01-12, 25, 7, 1\n",
        "2014-05-12, 41, 5, 12\n",
        "2013-02-25, 44, 3, 2\n",
        "2013-04-04, 90, 1, 5\n",
        "2013-06-21, 16, 2, 19\n",
        "2014-05-12, 63, 2, 15\n",
        "2014-05-12, 10, 4, 7\n",
        "2013-02-28, 78, 8, 9\n",
        "2013-08-02, 51, 1, 14\n",
        "EOF"
      ],
      "execution_count": 0,
      "outputs": []
    },
    {
      "cell_type": "markdown",
      "metadata": {
        "id": "gUNKx_CLcal9",
        "colab_type": "text"
      },
      "source": [
        "Se desea agregar un nuevo campo llamado `Quantity-CustomerID` que contenga la cantidad de producto y el cliente. El siguiente comando une las columnas de interés:"
      ]
    },
    {
      "cell_type": "code",
      "metadata": {
        "id": "EyI-2M8gcal-",
        "colab_type": "code",
        "colab": {}
      },
      "source": [
        "%%bash\n",
        "awk '{print gensub(/, ([0-9][0-9]), ([0-9]), ([0-9])/, \", \\\\1, \\\\2-\\\\3\", 1)}' out.1 > out.2\n",
        "cat out.2"
      ],
      "execution_count": 0,
      "outputs": []
    },
    {
      "cell_type": "markdown",
      "metadata": {
        "id": "nvR37Zc1camB",
        "colab_type": "text"
      },
      "source": [
        "Se agrega el título `Quantity-CustomerID`:"
      ]
    },
    {
      "cell_type": "code",
      "metadata": {
        "scrolled": true,
        "id": "QeO3bP6ocamB",
        "colab_type": "code",
        "colab": {}
      },
      "source": [
        "%%bash\n",
        "awk '{print gensub(/([a-zA-Z]*), ([a-zA-Z]*), ([a-zA-Z]*), ([a-zA-Z]*)/, \"\\\\1, \\\\2, \\\\3-\\\\4\", 1)}' out.2"
      ],
      "execution_count": 0,
      "outputs": []
    },
    {
      "cell_type": "markdown",
      "metadata": {
        "id": "51QWcZyGcamD",
        "colab_type": "text"
      },
      "source": [
        "A través del comando `BEGIN` y `END` se pueden agregar valores al principio y al final de las columnas o de todo el archivo de texto. \n",
        "\n",
        "El comando `NR>1` indica que se debe tener en cuenta solo filas a partir de la posicion 1 y `{print $0}` que se deben tener en cuenta todas las columnas."
      ]
    },
    {
      "cell_type": "code",
      "metadata": {
        "id": "EbxKV6rAcamD",
        "colab_type": "code",
        "colab": {},
        "outputId": "832d2c45-fb59-4999-d4c1-2724b47ec0b7"
      },
      "source": [
        "awk 'BEGIN{print \"Date, Price, Quantity-CustomerID\"}(NR>1){print $0}' out.2"
      ],
      "execution_count": 0,
      "outputs": [
        {
          "output_type": "stream",
          "text": [
            "Date, Price, Quantity-CustomerID\n",
            "2013-01-12, 25, 7-1\n",
            "2014-05-12, 41, 5-12\n",
            "2013-02-25, 44, 3-2\n",
            "2013-04-04, 90, 1-5\n",
            "2013-06-21, 16, 2-19\n",
            "2014-05-12, 63, 2-15\n",
            "2014-05-12, 10, 4-7\n",
            "2013-02-28, 78, 8-9\n",
            "2013-08-02, 51, 1-14\n"
          ],
          "name": "stdout"
        }
      ]
    },
    {
      "cell_type": "code",
      "metadata": {
        "id": "7se3OSCycamF",
        "colab_type": "code",
        "colab": {},
        "outputId": "de8358a1-dd38-48a5-f3dc-0b927c3efd39"
      },
      "source": [
        "awk '(NR>1){print $3} END{print \"Hola\"}' out.2"
      ],
      "execution_count": 0,
      "outputs": [
        {
          "output_type": "stream",
          "text": [
            "7-1\n",
            "5-12\n",
            "3-2\n",
            "1-5\n",
            "2-19\n",
            "2-15\n",
            "4-7\n",
            "8-9\n",
            "1-14\n",
            "Hola\n"
          ],
          "name": "stdout"
        }
      ]
    },
    {
      "cell_type": "markdown",
      "metadata": {
        "id": "U4I7UDtocamH",
        "colab_type": "text"
      },
      "source": [
        "Se desea agregar un nuevo campo llamado `Quantity*Price` que contenga el total de la cuenta de cada compra. El comando `{print $1 $2}` concatena e imprime columnas  iniciando el conteo en 1 de izquierda a derecha."
      ]
    },
    {
      "cell_type": "code",
      "metadata": {
        "id": "NfMaWfWvcamH",
        "colab_type": "code",
        "colab": {
          "base_uri": "https://localhost:8080/",
          "height": 194
        },
        "outputId": "54cf0f76-9b76-4a84-a827-36d0ae531719"
      },
      "source": [
        "%%bash\n",
        "awk -F\",\" '{print $1\",\"$2\",\"$3\", \"$4\", \"$2*$3}' out.1 > out.2\n",
        "cat out.2"
      ],
      "execution_count": 16,
      "outputs": [
        {
          "output_type": "stream",
          "text": [
            "Date, Price, Quantity,  CustomerID, 0\n",
            "2013-01-12, 25, 7,  1, 175\n",
            "2014-05-12, 41, 5,  12, 205\n",
            "2013-02-25, 44, 3,  2, 132\n",
            "2013-04-04, 90, 1,  5, 90\n",
            "2013-06-21, 16, 2,  19, 32\n",
            "2014-05-12, 63, 2,  15, 126\n",
            "2014-05-12, 10, 4,  7, 40\n",
            "2013-02-28, 78, 8,  9, 624\n",
            "2013-08-02, 51, 1,  14, 51\n"
          ],
          "name": "stdout"
        }
      ]
    },
    {
      "cell_type": "markdown",
      "metadata": {
        "id": "PdfC5uc8camK",
        "colab_type": "text"
      },
      "source": [
        "Ahora, se debe agregar el título a la nueva columna:"
      ]
    },
    {
      "cell_type": "code",
      "metadata": {
        "id": "ANKMZc68camL",
        "colab_type": "code",
        "colab": {
          "base_uri": "https://localhost:8080/",
          "height": 34
        },
        "outputId": "d3058030-6014-403a-e61e-af133e45618b"
      },
      "source": [
        "%%bash\n",
        "awk '{print gsub(/, 0/, \", Total\", 1)}' out.2 "
      ],
      "execution_count": 17,
      "outputs": [
        {
          "output_type": "stream",
          "text": [
            "awk: line 1: syntax error at or near 1\n"
          ],
          "name": "stderr"
        }
      ]
    },
    {
      "cell_type": "markdown",
      "metadata": {
        "id": "IiQHK7-KcamN",
        "colab_type": "text"
      },
      "source": [
        "Se puede utilizar el comando la opción `-F` y `OFS` para cambiar el separador del archivo de texto:"
      ]
    },
    {
      "cell_type": "code",
      "metadata": {
        "collapsed": true,
        "id": "YnOHBNaHcamO",
        "colab_type": "code",
        "colab": {},
        "outputId": "3636127c-fdda-4425-b1c8-b84e11fc57b1"
      },
      "source": [
        "awk -F\",\" 'BEGIN{OFS=\"|\";}{print $1,$2,$3,$4}' out.1"
      ],
      "execution_count": 0,
      "outputs": [
        {
          "output_type": "stream",
          "text": [
            "Date| Price| Quantity| CustomerID\n",
            "2013-01-12| 25| 7| 1\n",
            "2014-05-12| 41| 5| 12\n",
            "2013-02-25| 44| 3| 2\n",
            "2013-04-04| 90| 1| 5\n",
            "2013-06-21| 16| 2| 19\n",
            "2014-05-12| 63| 2| 15\n",
            "2014-05-12| 10| 4| 7\n",
            "2013-02-28| 78| 8| 9\n",
            "2013-08-02| 51| 1| 14\n"
          ],
          "name": "stdout"
        }
      ]
    },
    {
      "cell_type": "markdown",
      "metadata": {
        "id": "DxNsv_nWcamQ",
        "colab_type": "text"
      },
      "source": [
        "### Resumen\n",
        "\n",
        "```bash\n",
        "## imprime la línea 3\n",
        "awk 'NR == 3 {print}' out.1\n",
        "\n",
        "## imprime las líneas 3 a 6\n",
        "awk '(NR >= 3) && (NR <= 6) {print $0}' out.1\n",
        "\n",
        "## imprime las líneas 3 a 6 y 11 a 13\n",
        "awk '((NR >= 3) && (NR <= 6) || ((NR >= 11) && (NR <= 13)))  {print $0}' out.1\n",
        "\n",
        "## Imprime las lineas que contengan un 1\n",
        "awk '/1/ {print}' out.1\n",
        "\n",
        "## Imprime las líneas que tengaun un 1 al final\n",
        "awk '/1$/ {print}' out.1\n",
        "\n",
        "## Imprime las líneas que tengan un 1 al inicio\n",
        "awk '/^1/ {print}' out.1\n",
        "\n",
        "## sustituye la primera ocurrencia de X por x en cada línea\n",
        "awk '{sub(/X/, \"x\"); print}' out.1\n",
        "\n",
        "## Sustituye todas las ocurrencias de X por x\n",
        "awk '{gsub(/X/, \"x\"); print}' out.1\n",
        "\n",
        "## Parte la linea por los caracteres indicados y la asigna a una variable\n",
        "awk '{split($0,nombre,\"-\")} {print nombre[2]}' out.1\n",
        "```"
      ]
    },
    {
      "cell_type": "markdown",
      "metadata": {
        "id": "VXNX2KCRcamQ",
        "colab_type": "text"
      },
      "source": [
        "## Ejercicio práctico\n"
      ]
    },
    {
      "cell_type": "markdown",
      "metadata": {
        "id": "CSCrwIMjcamR",
        "colab_type": "text"
      },
      "source": [
        "Cree el archivo `out.1` como se indica a continuación."
      ]
    },
    {
      "cell_type": "code",
      "metadata": {
        "id": "XOqQwziQcamR",
        "colab_type": "code",
        "colab": {}
      },
      "source": [
        "%%bash\n",
        "cat > out.1 <<EOF\n",
        "12/03/13;A;1;100,0\n",
        "05/12/13;A;1;100,0\n",
        "25/02/13;B;2;200,0\n",
        "04/04/13;N;1;\\N\n",
        "21/06/13;\\N;;\n",
        "13/06/14;A;;N\n",
        "12/05/14;C;\\N;\n",
        "05/09/14;\\N;3;150,1\n",
        "12/05/14;a;2;\\N\n",
        "28/02/13;c;\\N;\\N\n",
        "02/08/13;A;2;100;0\n",
        "EOF"
      ],
      "execution_count": 0,
      "outputs": []
    },
    {
      "cell_type": "markdown",
      "metadata": {
        "id": "glUOCYlWcamT",
        "colab_type": "text"
      },
      "source": [
        "Los valores válidos para los campos son los siguientes:\n",
        "\n",
        "* Columna 1: `DD/MM/AA`\n",
        "* Columna 2: `A`, `B`, `C`. `\\N` indica NULL.\n",
        "* Columna 3: Número entero. `\\N` indica NULL.\n",
        "* Columna 4: Número decimal. `\\N` indica NULL.\n",
        "    "
      ]
    },
    {
      "cell_type": "markdown",
      "metadata": {
        "id": "VG4AuvjHcamU",
        "colab_type": "text"
      },
      "source": [
        "Usando `awk`:\n",
        "\n",
        "1. Convierta el formato de las fechas de `DD/MM/YY` a `YYYY-MM-DD`.\n",
        "2. Transforme el archivo para que todos los campos nulos aparezcan como `\\N`.\n",
        "3. Reemplace los `;` por `,`.\n",
        "4. Use el `.` para indicar decimales.\n",
        "5. Extraiga los registros que no tienen campos nulos."
      ]
    },
    {
      "cell_type": "code",
      "metadata": {
        "id": "-v6_JYKAql4t",
        "colab_type": "code",
        "colab": {}
      },
      "source": [
        "!awk '{gsub(/\\//,\"-\"); print}' out.1 > out.2"
      ],
      "execution_count": 0,
      "outputs": []
    },
    {
      "cell_type": "code",
      "metadata": {
        "id": "3o9uurxTt0gv",
        "colab_type": "code",
        "colab": {
          "base_uri": "https://localhost:8080/",
          "height": 212
        },
        "outputId": "93ad6306-d573-485c-f364-6c55cf021617"
      },
      "source": [
        "!cat out.2"
      ],
      "execution_count": 23,
      "outputs": [
        {
          "output_type": "stream",
          "text": [
            "12-03-13;A;1;100,0\n",
            "05-12-13;A;1;100,0\n",
            "25-02-13;B;2;200,0\n",
            "04-04-13;N;1;\\N\n",
            "21-06-13;\\N;;\n",
            "13-06-14;A;;N\n",
            "12-05-14;C;\\N;\n",
            "05-09-14;\\N;3;150,1\n",
            "12-05-14;a;2;\\N\n",
            "28-02-13;c;\\N;\\N\n",
            "02-08-13;A;2;100;0\n"
          ],
          "name": "stdout"
        }
      ]
    },
    {
      "cell_type": "code",
      "metadata": {
        "id": "YDQNKOkfql1s",
        "colab_type": "code",
        "colab": {
          "base_uri": "https://localhost:8080/",
          "height": 212
        },
        "outputId": "3ef7fb11-493e-4255-9fdf-b50a574f4992"
      },
      "source": [
        "!awk '{gsub(/;;/,\";\\N;\"); print}' out.2 > out.3\n",
        "!cat out.3"
      ],
      "execution_count": 26,
      "outputs": [
        {
          "output_type": "stream",
          "text": [
            "12-03-13;A;1;100,0\n",
            "05-12-13;A;1;100,0\n",
            "25-02-13;B;2;200,0\n",
            "04-04-13;N;1;\\N\n",
            "21-06-13;\\N;\\N;\n",
            "13-06-14;A;\\N;N\n",
            "12-05-14;C;\\N;\n",
            "05-09-14;\\N;3;150,1\n",
            "12-05-14;a;2;\\N\n",
            "28-02-13;c;\\N;\\N\n",
            "02-08-13;A;2;100;0\n"
          ],
          "name": "stdout"
        }
      ]
    },
    {
      "cell_type": "code",
      "metadata": {
        "id": "V3-6bOf9qlyV",
        "colab_type": "code",
        "colab": {
          "base_uri": "https://localhost:8080/",
          "height": 212
        },
        "outputId": "a5b528d3-f8f9-4fb4-ea56-65fd8d715b1f"
      },
      "source": [
        "!awk '{gsub(/,/,\".\"); print}' out.3 > out.4\n",
        "!cat out.4"
      ],
      "execution_count": 27,
      "outputs": [
        {
          "output_type": "stream",
          "text": [
            "12-03-13;A;1;100.0\n",
            "05-12-13;A;1;100.0\n",
            "25-02-13;B;2;200.0\n",
            "04-04-13;N;1;\\N\n",
            "21-06-13;\\N;\\N;\n",
            "13-06-14;A;\\N;N\n",
            "12-05-14;C;\\N;\n",
            "05-09-14;\\N;3;150.1\n",
            "12-05-14;a;2;\\N\n",
            "28-02-13;c;\\N;\\N\n",
            "02-08-13;A;2;100;0\n"
          ],
          "name": "stdout"
        }
      ]
    },
    {
      "cell_type": "code",
      "metadata": {
        "id": "RoRkfNPcqlvW",
        "colab_type": "code",
        "colab": {
          "base_uri": "https://localhost:8080/",
          "height": 212
        },
        "outputId": "8417604b-0246-4e7d-da56-72183b68f2d7"
      },
      "source": [
        "!awk '{gsub(/;/,\",\"); print}' out.4 > out.5\n",
        "!cat out.5"
      ],
      "execution_count": 28,
      "outputs": [
        {
          "output_type": "stream",
          "text": [
            "12-03-13,A,1,100.0\n",
            "05-12-13,A,1,100.0\n",
            "25-02-13,B,2,200.0\n",
            "04-04-13,N,1,\\N\n",
            "21-06-13,\\N,\\N,\n",
            "13-06-14,A,\\N,N\n",
            "12-05-14,C,\\N,\n",
            "05-09-14,\\N,3,150.1\n",
            "12-05-14,a,2,\\N\n",
            "28-02-13,c,\\N,\\N\n",
            "02-08-13,A,2,100,0\n"
          ],
          "name": "stdout"
        }
      ]
    },
    {
      "cell_type": "code",
      "metadata": {
        "id": "PoCiLupDqlrG",
        "colab_type": "code",
        "colab": {
          "base_uri": "https://localhost:8080/",
          "height": 141
        },
        "outputId": "04d7bdc7-ef3c-44c6-8b58-d89118a4b8dc"
      },
      "source": [
        "%%bash\n",
        "awk '/\\N/ {print}' out.5"
      ],
      "execution_count": 29,
      "outputs": [
        {
          "output_type": "stream",
          "text": [
            "04-04-13,N,1,\\N\n",
            "21-06-13,\\N,\\N,\n",
            "13-06-14,A,\\N,N\n",
            "12-05-14,C,\\N,\n",
            "05-09-14,\\N,3,150.1\n",
            "12-05-14,a,2,\\N\n",
            "28-02-13,c,\\N,\\N\n"
          ],
          "name": "stdout"
        }
      ]
    },
    {
      "cell_type": "markdown",
      "metadata": {
        "id": "4nQrHw8ccamU",
        "colab_type": "text"
      },
      "source": [
        "**Borrado de los archivos temporales creados**"
      ]
    },
    {
      "cell_type": "code",
      "metadata": {
        "id": "g250be7rcamW",
        "colab_type": "code",
        "colab": {}
      },
      "source": [
        "rm out.*"
      ],
      "execution_count": 0,
      "outputs": []
    }
  ]
}