{
  "nbformat": 4,
  "nbformat_minor": 0,
  "metadata": {
    "kernel_info": {
      "name": "bash"
    },
    "kernelspec": {
      "display_name": "Bash",
      "language": "bash",
      "name": "bash"
    },
    "language_info": {
      "codemirror_mode": "shell",
      "file_extension": ".sh",
      "mimetype": "text/x-sh",
      "name": "bash"
    },
    "nteract": {
      "version": "0.12.3"
    },
    "colab": {
      "name": "2. Edición de archivos con Sed.ipynb",
      "provenance": [],
      "include_colab_link": true
    }
  },
  "cells": [
    {
      "cell_type": "markdown",
      "metadata": {
        "id": "view-in-github",
        "colab_type": "text"
      },
      "source": [
        "<a href=\"https://colab.research.google.com/github/adtamayop/ETL/blob/master/2_Edici%C3%B3n_de_archivos_con_Sed.ipynb\" target=\"_parent\"><img src=\"https://colab.research.google.com/assets/colab-badge.svg\" alt=\"Open In Colab\"/></a>"
      ]
    },
    {
      "cell_type": "markdown",
      "metadata": {
        "id": "ky96iTKbWHhE",
        "colab_type": "text"
      },
      "source": [
        "Edición de archivos con sed\n",
        "=="
      ]
    },
    {
      "cell_type": "markdown",
      "metadata": {
        "id": "0hlg2yxbWHhF",
        "colab_type": "text"
      },
      "source": [
        "`sed` es un editor de flujos que puede ser usado para extraer, adicionar o reemplazar textos en un archivo. En Ciencia de los datos, resulta particularmente interesante para realizar impresión, sustitución y borrado de textos en archivos planos, que es una tarea común en procesos ETL y data pipe lines. Cada comando es representado por una letra y el carácter `/` es usado como un delimitador.\n"
      ]
    },
    {
      "cell_type": "markdown",
      "metadata": {
        "id": "fo2bhfcCWHhF",
        "colab_type": "text"
      },
      "source": [
        "## Manual y ayuda en línea"
      ]
    },
    {
      "cell_type": "markdown",
      "metadata": {
        "id": "Jj0kFUjwWHhG",
        "colab_type": "text"
      },
      "source": [
        "* Manual: https://www.gnu.org/software/sed/manual/sed.html\n",
        "\n",
        "* Ayuda:\n",
        "```bash\n",
        "man sed\n",
        "```"
      ]
    },
    {
      "cell_type": "markdown",
      "metadata": {
        "id": "_xsgaRzaWHhH",
        "colab_type": "text"
      },
      "source": [
        "## Tareas básicas"
      ]
    },
    {
      "cell_type": "markdown",
      "metadata": {
        "id": "DaMWHG3dWHhH",
        "colab_type": "text"
      },
      "source": [
        "### Impresión de líneas específicias"
      ]
    },
    {
      "cell_type": "code",
      "metadata": {
        "id": "RCfgGfCeWHhI",
        "colab_type": "code",
        "colab": {}
      },
      "source": [
        "## se imprimen los primeros 30 números a un archivo\n",
        "seq 30 > out.1"
      ],
      "execution_count": 0,
      "outputs": []
    },
    {
      "cell_type": "code",
      "metadata": {
        "id": "NpowvCNoWHhK",
        "colab_type": "code",
        "colab": {},
        "outputId": "6e41a113-89b4-4e5a-c79e-ce3ea71bc683"
      },
      "source": [
        "## imprime la línea 3\n",
        "sed -n '3p' out.1"
      ],
      "execution_count": 0,
      "outputs": [
        {
          "output_type": "stream",
          "text": [
            "3\n"
          ],
          "name": "stdout"
        }
      ]
    },
    {
      "cell_type": "code",
      "metadata": {
        "id": "K5kR2_DkWHhN",
        "colab_type": "code",
        "colab": {},
        "outputId": "2b5b2e74-3ba8-48ae-8a8d-0dd9e48f5b98"
      },
      "source": [
        "## imprime las líneas 3 a 6\n",
        "sed -n '3,6p' out.1"
      ],
      "execution_count": 0,
      "outputs": [
        {
          "output_type": "stream",
          "text": [
            "3\n",
            "4\n",
            "5\n",
            "6\n"
          ],
          "name": "stdout"
        }
      ]
    },
    {
      "cell_type": "code",
      "metadata": {
        "id": "yi5Shn8oWHhP",
        "colab_type": "code",
        "colab": {},
        "outputId": "3978c81b-ac32-4c16-b789-4cbc0374dde3"
      },
      "source": [
        "## imprime las líneas 3 a 6 y 11 a 13\n",
        "sed -n '3,6p; 11,13p' out.1"
      ],
      "execution_count": 0,
      "outputs": [
        {
          "output_type": "stream",
          "text": [
            "3\n",
            "4\n",
            "5\n",
            "6\n",
            "11\n",
            "12\n",
            "13\n"
          ],
          "name": "stdout"
        }
      ]
    },
    {
      "cell_type": "code",
      "metadata": {
        "id": "KrNdLEabWHhR",
        "colab_type": "code",
        "colab": {},
        "outputId": "49d24117-2270-4e46-ce04-a1c73e8c3e76"
      },
      "source": [
        "## de la linea 25 al final\n",
        "sed -n '25,$ p' out.1"
      ],
      "execution_count": 0,
      "outputs": [
        {
          "output_type": "stream",
          "text": [
            "25\n",
            "26\n",
            "27\n",
            "28\n",
            "29\n",
            "30\n"
          ],
          "name": "stdout"
        }
      ]
    },
    {
      "cell_type": "markdown",
      "metadata": {
        "id": "bPVSQahPWHhT",
        "colab_type": "text"
      },
      "source": [
        "### Filtrado"
      ]
    },
    {
      "cell_type": "code",
      "metadata": {
        "scrolled": false,
        "id": "zNsROJf0WHhT",
        "colab_type": "code",
        "colab": {},
        "outputId": "c9f8339c-ad41-4464-98cd-eaaf2ecb4e07"
      },
      "source": [
        "## Imprime las lineas que contengan un 1\n",
        "sed -n '/1/p'  out.1"
      ],
      "execution_count": 0,
      "outputs": [
        {
          "output_type": "stream",
          "text": [
            "1\n",
            "10\n",
            "11\n",
            "12\n",
            "13\n",
            "14\n",
            "15\n",
            "16\n",
            "17\n",
            "18\n",
            "19\n",
            "21\n"
          ],
          "name": "stdout"
        }
      ]
    },
    {
      "cell_type": "markdown",
      "metadata": {
        "id": "kD3ioV3OWHhV",
        "colab_type": "text"
      },
      "source": [
        "* La opción `-n` indica que no debe imprimirse en pantalla cada línea leída del archivo `out.1`. \n",
        "\n",
        "* La cadena `/1/` indica la expresión regular (en este caso que la línea contenga un `1` y los `/`  son delimitadores). La `p`  al final indica que se imprima la línea. "
      ]
    },
    {
      "cell_type": "code",
      "metadata": {
        "id": "P9j8s39lWHhW",
        "colab_type": "code",
        "colab": {},
        "outputId": "25b1889b-197b-4fdc-ea86-22e05bcc4272"
      },
      "source": [
        "## Imprime las líneas que tenga un un 1 al final\n",
        "sed -n '/1$/p'  out.1"
      ],
      "execution_count": 0,
      "outputs": [
        {
          "output_type": "stream",
          "text": [
            "1\n",
            "11\n",
            "21\n"
          ],
          "name": "stdout"
        }
      ]
    },
    {
      "cell_type": "code",
      "metadata": {
        "id": "VtFZouZkWHhY",
        "colab_type": "code",
        "colab": {},
        "outputId": "d963e545-1b57-497c-ab1c-77faa8f2d1c2"
      },
      "source": [
        "## Imprime las líneas que tengan un 1 al inicio\n",
        "sed -n '/^1/p' out.1"
      ],
      "execution_count": 0,
      "outputs": [
        {
          "output_type": "stream",
          "text": [
            "1\n",
            "10\n",
            "11\n",
            "12\n",
            "13\n",
            "14\n",
            "15\n",
            "16\n",
            "17\n",
            "18\n",
            "19\n"
          ],
          "name": "stdout"
        }
      ]
    },
    {
      "cell_type": "markdown",
      "metadata": {
        "id": "2rhnVnHXWHhb",
        "colab_type": "text"
      },
      "source": [
        "### Borrado"
      ]
    },
    {
      "cell_type": "code",
      "metadata": {
        "id": "7w82cLmJWHhc",
        "colab_type": "code",
        "colab": {},
        "outputId": "6b1d48c3-9fb6-481b-8002-a9c3bbe20f1f"
      },
      "source": [
        "# Borra las líneas 3 a la 26\n",
        "sed \"3,26 d\" out.1 "
      ],
      "execution_count": 0,
      "outputs": [
        {
          "output_type": "stream",
          "text": [
            "1\n",
            "2\n",
            "27\n",
            "28\n",
            "29\n",
            "30\n"
          ],
          "name": "stdout"
        }
      ]
    },
    {
      "cell_type": "markdown",
      "metadata": {
        "id": "Atmhu-g2WHhf",
        "colab_type": "text"
      },
      "source": [
        "### Encadenado de expresiones"
      ]
    },
    {
      "cell_type": "markdown",
      "metadata": {
        "id": "0NYph1YbWHhg",
        "colab_type": "text"
      },
      "source": [
        "La opción `-e` con `sed`  indica expresión (comando) y permite realizar comandos simultaneos; por ejemplo, imprimir todo excepto la posición 1 y 2."
      ]
    },
    {
      "cell_type": "code",
      "metadata": {
        "id": "ql1UJZdcWHhg",
        "colab_type": "code",
        "colab": {},
        "outputId": "744c176e-eb16-41e4-9ee5-6b8d83a1886d"
      },
      "source": [
        "sed -e 1d -e 2d out.1"
      ],
      "execution_count": 0,
      "outputs": [
        {
          "output_type": "stream",
          "text": [
            "3\n",
            "4\n",
            "5\n",
            "6\n",
            "7\n",
            "8\n",
            "9\n",
            "10\n",
            "11\n",
            "12\n",
            "13\n",
            "14\n",
            "15\n",
            "16\n",
            "17\n",
            "18\n",
            "19\n",
            "20\n",
            "21\n",
            "22\n",
            "23\n",
            "24\n",
            "25\n",
            "26\n",
            "27\n",
            "28\n",
            "29\n",
            "30\n"
          ],
          "name": "stdout"
        }
      ]
    },
    {
      "cell_type": "markdown",
      "metadata": {
        "id": "n3i_kbATWHhi",
        "colab_type": "text"
      },
      "source": [
        "### Substitución"
      ]
    },
    {
      "cell_type": "markdown",
      "metadata": {
        "id": "RX3-4EuzWHhj",
        "colab_type": "text"
      },
      "source": [
        "En el archivo generado mediante las siguientes instrucciones:"
      ]
    },
    {
      "cell_type": "code",
      "metadata": {
        "id": "jLatcQ9NWHhj",
        "colab_type": "code",
        "colab": {}
      },
      "source": [
        "cat > out.1 <<EOF\n",
        "FieldA, FieldD, FieldE, FieldG\n",
        "   2, X, 2X, 2XG\n",
        "   2, Y, 2Y, 2YG \n",
        "   3, Y, 3Y, 3YG\n",
        "   3, X, 3X, 3XG\n",
        "   4, Z, 4Z, 3XG\n",
        "EOF"
      ],
      "execution_count": 0,
      "outputs": []
    },
    {
      "cell_type": "markdown",
      "metadata": {
        "id": "ymIXO_JkWHhl",
        "colab_type": "text"
      },
      "source": [
        "se desean cambiar las `X` por `x`."
      ]
    },
    {
      "cell_type": "markdown",
      "metadata": {
        "id": "n0WPFw_2WHhm",
        "colab_type": "text"
      },
      "source": [
        "Para ello, se emplea la opción `s` para indicar que se realizarán sustituciones de texto:"
      ]
    },
    {
      "cell_type": "code",
      "metadata": {
        "id": "REzUN_1iWHhm",
        "colab_type": "code",
        "colab": {},
        "outputId": "4d307857-1f6c-4217-d474-4b3038b4e88b"
      },
      "source": [
        "## Cambia la primera ocurrencia de X por x en cada linea\n",
        "sed 's/X/x/' out.1"
      ],
      "execution_count": 0,
      "outputs": [
        {
          "output_type": "stream",
          "text": [
            "FieldA, FieldD, FieldE, FieldG\n",
            "   2, x, 2X, 2XG\n",
            "   2, Y, 2Y, 2YG \n",
            "   3, Y, 3Y, 3YG\n",
            "   3, x, 3X, 3XG\n",
            "   4, Z, 4Z, 3xG\n"
          ],
          "name": "stdout"
        }
      ]
    },
    {
      "cell_type": "markdown",
      "metadata": {
        "id": "hTbYEtIjWHho",
        "colab_type": "text"
      },
      "source": [
        "Note que solo se sustituyeron la primera ocurrencia de cada línea. Si se requieren cambiar todas las ocurrencias en cada línea se usa `g` para indicar sustitución global:"
      ]
    },
    {
      "cell_type": "code",
      "metadata": {
        "scrolled": true,
        "id": "KEg54rLQWHhp",
        "colab_type": "code",
        "colab": {},
        "outputId": "9fb7028e-4182-4ad5-95c6-70aa5c426a11"
      },
      "source": [
        "## Cambia todas las ocurrencias de X por x\n",
        "sed 's/X/x/g' out.1"
      ],
      "execution_count": 0,
      "outputs": [
        {
          "output_type": "stream",
          "text": [
            "FieldA, FieldD, FieldE, FieldG\n",
            "   2, x, 2x, 2xG\n",
            "   2, Y, 2Y, 2YG \n",
            "   3, Y, 3Y, 3YG\n",
            "   3, x, 3x, 3xG\n",
            "   4, Z, 4Z, 3xG\n"
          ],
          "name": "stdout"
        }
      ]
    },
    {
      "cell_type": "markdown",
      "metadata": {
        "id": "taMvsx_YWHhr",
        "colab_type": "text"
      },
      "source": [
        "La opción `y` es útil para transformar el registro en el orden en el que se indique en la expresión regular; por ejemplo, se requiere cambiar sistemáticamente las `X` por `x` y las `Y` por `y`."
      ]
    },
    {
      "cell_type": "code",
      "metadata": {
        "id": "w6GKR30gWHhr",
        "colab_type": "code",
        "colab": {},
        "outputId": "7e6130c8-7a07-4050-bd2a-28f6a694b261"
      },
      "source": [
        "sed 'y/XY/xy/' out.1 "
      ],
      "execution_count": 0,
      "outputs": [
        {
          "output_type": "stream",
          "text": [
            "FieldA, FieldD, FieldE, FieldG\n",
            "   2, x, 2x, 2xG\n",
            "   2, y, 2y, 2yG \n",
            "   3, y, 3y, 3yG\n",
            "   3, x, 3x, 3xG\n",
            "   4, Z, 4Z, 3xG\n"
          ],
          "name": "stdout"
        }
      ]
    },
    {
      "cell_type": "markdown",
      "metadata": {
        "id": "5hAmC_xfWHhu",
        "colab_type": "text"
      },
      "source": [
        "Se pueden realizar sustituciones de acuerdo con las veces que se encuentre el patrón en la linea; por ejemplo, se requiere sustituir las `X` por el simbolo `#` en el archivo pero solo para la segunda columna en donde se encuentren letras `X`."
      ]
    },
    {
      "cell_type": "code",
      "metadata": {
        "id": "DE5xVoEwWHhv",
        "colab_type": "code",
        "colab": {},
        "outputId": "7ee1b1a9-6512-4489-aa2b-7103092dc193"
      },
      "source": [
        "sed 's/X/#/2' out.1"
      ],
      "execution_count": 0,
      "outputs": [
        {
          "output_type": "stream",
          "text": [
            "FieldA, FieldD, FieldE, FieldG\n",
            "   2, X, 2#, 2XG\n",
            "   2, Y, 2Y, 2YG \n",
            "   3, Y, 3Y, 3YG\n",
            "   3, X, 3#, 3XG\n",
            "   4, Z, 4Z, 3XG\n"
          ],
          "name": "stdout"
        }
      ]
    },
    {
      "cell_type": "markdown",
      "metadata": {
        "id": "_SNP16LvWHhy",
        "colab_type": "text"
      },
      "source": [
        "La opción `2g` indica que se reemplace cuando encuentre el patrón por segunda vez y en adelante."
      ]
    },
    {
      "cell_type": "code",
      "metadata": {
        "scrolled": true,
        "id": "q0fGnNNeWHhz",
        "colab_type": "code",
        "colab": {},
        "outputId": "9d477211-d8ff-4bc8-9908-419ae8d4bcd5"
      },
      "source": [
        "sed 's/X/xx/2g' out.1"
      ],
      "execution_count": 0,
      "outputs": [
        {
          "output_type": "stream",
          "text": [
            "FieldA, FieldD, FieldE, FieldG\n",
            "   2, X, 2xx, 2xxG\n",
            "   2, Y, 2Y, 2YG \n",
            "   3, Y, 3Y, 3YG\n",
            "   3, X, 3xx, 3xxG\n",
            "   4, Z, 4Z, 3XG\n"
          ],
          "name": "stdout"
        }
      ]
    },
    {
      "cell_type": "markdown",
      "metadata": {
        "id": "1OJqPgCZWHh3",
        "colab_type": "text"
      },
      "source": [
        "El simbolo `&` se usa en una expresión regular para indicar la cadena de texto reconocida. Es decir, el símbolo `&` es reemplazado por la cadena de texto reconocida; por ejemplo, se requiere tener las letras `X` entre llaves para la linea 5."
      ]
    },
    {
      "cell_type": "code",
      "metadata": {
        "id": "G8amNinnWHh4",
        "colab_type": "code",
        "colab": {},
        "outputId": "f38cc323-7843-4aa4-9bba-bc8b48474577"
      },
      "source": [
        "sed '5 s/X/{&}/g' out.1"
      ],
      "execution_count": 0,
      "outputs": [
        {
          "output_type": "stream",
          "text": [
            "FieldA, FieldD, FieldE, FieldG\n",
            "   2, X, 2X, 2XG\n",
            "   2, Y, 2Y, 2YG \n",
            "   3, Y, 3Y, 3YG\n",
            "   3, {X}, 3{X}, 3{X}G\n",
            "   4, Z, 4Z, 3XG\n"
          ],
          "name": "stdout"
        }
      ]
    },
    {
      "cell_type": "markdown",
      "metadata": {
        "id": "H_Xie7QuWHh6",
        "colab_type": "text"
      },
      "source": [
        "Sea el siguiente archivo:"
      ]
    },
    {
      "cell_type": "code",
      "metadata": {
        "id": "7lkM_BbyWHh7",
        "colab_type": "code",
        "colab": {}
      },
      "source": [
        "cat > out.1 <<EOF\n",
        "1980-JAN-1+1:0:1.134\n",
        "1980-JAN-5+1:0:1.12\n",
        "1982-JAN-13+10:12:42.33\n",
        "EOF"
      ],
      "execution_count": 0,
      "outputs": []
    },
    {
      "cell_type": "markdown",
      "metadata": {
        "id": "as-de6S9WHh8",
        "colab_type": "text"
      },
      "source": [
        "Se desea formatear la fecha y la hora, es decir, la primera línea:\n",
        "\n",
        "```\n",
        "1980-JAN-1+1:0:1.134\n",
        "```\n",
        "\n",
        "debe cambiarse por:\n",
        "\n",
        "```\n",
        "1980-JAN-01 01:00:01\n",
        "```\n"
      ]
    },
    {
      "cell_type": "markdown",
      "metadata": {
        "id": "fVMihzTrWHh-",
        "colab_type": "text"
      },
      "source": [
        "El primer paso consiste en agregar el cero a los números de día con un solo dígito."
      ]
    },
    {
      "cell_type": "code",
      "metadata": {
        "id": "LZIGMSJaWHh-",
        "colab_type": "code",
        "colab": {},
        "outputId": "d0ee52b6-7f8f-45e8-b077-87b939ae93f4"
      },
      "source": [
        "sed 's/-\\([0-9]\\)+/-0\\1+/' out.1 > out.2\n",
        "cat out.2"
      ],
      "execution_count": 0,
      "outputs": [
        {
          "output_type": "stream",
          "text": [
            "1980-JAN-01+1:0:1.134\n",
            "1980-JAN-05+1:0:1.12\n",
            "1982-JAN-13+10:12:42.33\n"
          ],
          "name": "stdout"
        }
      ]
    },
    {
      "cell_type": "markdown",
      "metadata": {
        "id": "_LvRkLNVWHiA",
        "colab_type": "text"
      },
      "source": [
        "La explicación del comando anterior es la siguiente. El patrón de entrada está conformado por los siguientes elementos:\n",
        "\n",
        "* El caracter `-`.\n",
        "* Un dígito entre 0 y 9 (patrón `[0-9]`). Las secuencias `\\(` y `\\)` especifican que el dígito reconocido debe recordarse. Pueden existir varias cadenas a recordar; la primera cadena es `\\1`, la segunda cadena es `\\2` y así sucesivamente.\n",
        "* El caracter `+`.\n",
        "\n",
        "El patrón de salida indica que:\n",
        "\n",
        "* Se imprime el caracter `-`.\n",
        "* Luego el caracter `0`.\n",
        "* A continuación el dígito reconocido `\\1`.\n"
      ]
    },
    {
      "cell_type": "markdown",
      "metadata": {
        "id": "abRsURVmWHiA",
        "colab_type": "text"
      },
      "source": [
        "Se reemplaza el `+` por un espacio en blanco."
      ]
    },
    {
      "cell_type": "code",
      "metadata": {
        "id": "35Z3IJrMWHiB",
        "colab_type": "code",
        "colab": {},
        "outputId": "27f8bc12-a5bc-466c-ccb3-1e83044ac34c"
      },
      "source": [
        "sed 's/+/ /' out.2 > out.3\n",
        "cat out.3"
      ],
      "execution_count": 0,
      "outputs": [
        {
          "output_type": "stream",
          "text": [
            "1980-JAN-01 1:0:1.134\n",
            "1980-JAN-05 1:0:1.12\n",
            "1982-JAN-13 10:12:42.33\n"
          ],
          "name": "stdout"
        }
      ]
    },
    {
      "cell_type": "markdown",
      "metadata": {
        "id": "rJXQcDbVWHiC",
        "colab_type": "text"
      },
      "source": [
        "Se agrega el `0` a las horas. La expresión regular indica que es un espacio en blanco seguido de un dígito, seguido de `:`."
      ]
    },
    {
      "cell_type": "code",
      "metadata": {
        "id": "-TB7pSieWHiD",
        "colab_type": "code",
        "colab": {},
        "outputId": "23d6fa5f-e62d-4c6b-ec25-049f34e147f1"
      },
      "source": [
        "sed 's/ \\([0-9]\\):/ 0\\1:/' out.3 > out.4\n",
        "cat out.4"
      ],
      "execution_count": 0,
      "outputs": [
        {
          "output_type": "stream",
          "text": [
            "1980-JAN-01 01:0:1.134\n",
            "1980-JAN-05 01:0:1.12\n",
            "1982-JAN-13 10:12:42.33\n"
          ],
          "name": "stdout"
        }
      ]
    },
    {
      "cell_type": "markdown",
      "metadata": {
        "id": "85e3QlKvWHiK",
        "colab_type": "text"
      },
      "source": [
        "Se agrega el `0` a los minutos."
      ]
    },
    {
      "cell_type": "code",
      "metadata": {
        "id": "9G9OyV2zWHiL",
        "colab_type": "code",
        "colab": {},
        "outputId": "4751aa46-40ba-495e-87e0-65fd44f629b9"
      },
      "source": [
        "sed 's/:\\([0-9]\\):/:0\\1:/' out.4 > out.5\n",
        "cat out.5"
      ],
      "execution_count": 0,
      "outputs": [
        {
          "output_type": "stream",
          "text": [
            "1980-JAN-01 01:00:1.134\n",
            "1980-JAN-05 01:00:1.12\n",
            "1982-JAN-13 10:12:42.33\n"
          ],
          "name": "stdout"
        }
      ]
    },
    {
      "cell_type": "markdown",
      "metadata": {
        "id": "_mxnJs3rWHiN",
        "colab_type": "text"
      },
      "source": [
        "Se agrega el `0` a los segundos."
      ]
    },
    {
      "cell_type": "code",
      "metadata": {
        "id": "50StOj_nWHiO",
        "colab_type": "code",
        "colab": {},
        "outputId": "abb90261-095d-4314-c470-75068aa53756"
      },
      "source": [
        "sed 's/:\\([0-9]\\)\\./:0\\1./' out.5 > out.6\n",
        "cat out.6"
      ],
      "execution_count": 0,
      "outputs": [
        {
          "output_type": "stream",
          "text": [
            "1980-JAN-01 01:00:01.134\n",
            "1980-JAN-05 01:00:01.12\n",
            "1982-JAN-13 10:12:42.33\n"
          ],
          "name": "stdout"
        }
      ]
    },
    {
      "cell_type": "markdown",
      "metadata": {
        "id": "mUITpd9gWHiR",
        "colab_type": "text"
      },
      "source": [
        "Se elimina la parte decimal de los segundos"
      ]
    },
    {
      "cell_type": "code",
      "metadata": {
        "scrolled": true,
        "id": "hOZ3Uv9oWHiR",
        "colab_type": "code",
        "colab": {},
        "outputId": "eb33c6aa-e3a7-4c1c-998a-2a8479154f19"
      },
      "source": [
        "sed 's/\\.[0-9][0-9]*//' out.6 > out.7\n",
        "cat out.7"
      ],
      "execution_count": 0,
      "outputs": [
        {
          "output_type": "stream",
          "text": [
            "1980-JAN-01 01:00:01\n",
            "1980-JAN-05 01:00:01\n",
            "1982-JAN-13 10:12:42\n"
          ],
          "name": "stdout"
        }
      ]
    },
    {
      "cell_type": "markdown",
      "metadata": {
        "id": "vCLfYxW7WHiT",
        "colab_type": "text"
      },
      "source": [
        "La notación `\\.[0-9][0-9]*` indica que el patrón es un punto (`\\.`) seguido de un dígito (`[0-9]`), seguido de cero, uno o más dígitos (`[0-9]*`)."
      ]
    },
    {
      "cell_type": "markdown",
      "metadata": {
        "id": "WtzhnNiLWHiT",
        "colab_type": "text"
      },
      "source": [
        "### Adición de contenido"
      ]
    },
    {
      "cell_type": "markdown",
      "metadata": {
        "id": "svDq7aFXWHiU",
        "colab_type": "text"
      },
      "source": [
        "Sea el siguiente archivo:"
      ]
    },
    {
      "cell_type": "code",
      "metadata": {
        "id": "SayRSdSrWHiV",
        "colab_type": "code",
        "colab": {}
      },
      "source": [
        "cat > out.1 <<EOF\n",
        "AAAA 1234 SI\n",
        "BBBB 5678 SI\n",
        "CCCC 9012 NO\n",
        "EOF"
      ],
      "execution_count": 0,
      "outputs": []
    },
    {
      "cell_type": "markdown",
      "metadata": {
        "id": "z4RFGH_VWHiW",
        "colab_type": "text"
      },
      "source": [
        "\n",
        "* La función `sed` junto con la opción `i`, permiten agregar lineas **antes** de un texto que es reconocido mediante expresión regular. De la misma forma, la opción `a` permite agregar lineas **después** del texto reconocido.\n",
        "\n",
        "\n",
        "* La función `sed` junto con la opción `c`, permiten cambiar la información de un registro que cumpla un patrón específico. "
      ]
    },
    {
      "cell_type": "markdown",
      "metadata": {
        "id": "FejCvCbWWHiW",
        "colab_type": "text"
      },
      "source": [
        "Se requiere incluir antes del registro `BBBB`, la siguiente información:\n",
        "\n",
        "`EEEE 0000 SI`"
      ]
    },
    {
      "cell_type": "code",
      "metadata": {
        "scrolled": true,
        "id": "MyKoU613WHiX",
        "colab_type": "code",
        "colab": {},
        "outputId": "c5fca017-d491-4dfa-c2f8-9d2139d310b5"
      },
      "source": [
        "sed '/AAAA/ i\\EEEE 0000 SI/' out.1"
      ],
      "execution_count": 0,
      "outputs": [
        {
          "output_type": "stream",
          "text": [
            "EEEE 0000 SI/\n",
            "AAAA 1234 SI\n",
            "BBBB 5678 SI\n",
            "CCCC 9012 NO\n"
          ],
          "name": "stdout"
        }
      ]
    },
    {
      "cell_type": "markdown",
      "metadata": {
        "id": "lApguqmAWHiZ",
        "colab_type": "text"
      },
      "source": [
        "Se requiere cambiar el registro `BBBB` por la siguiente información:\n",
        "\n",
        "`XXXX 1111 SI`"
      ]
    },
    {
      "cell_type": "code",
      "metadata": {
        "id": "3B2ZaJjKWHiZ",
        "colab_type": "code",
        "colab": {},
        "outputId": "42ca6e9a-75c6-4f0a-f19b-75a821b46b4a"
      },
      "source": [
        "sed '/BBBB/ c XXXX 1111 SI' out.1"
      ],
      "execution_count": 0,
      "outputs": [
        {
          "output_type": "stream",
          "text": [
            "AAAA 1234 SI\n",
            "XXXX 1111 SI\n",
            "CCCC 9012 NO\n"
          ],
          "name": "stdout"
        }
      ]
    },
    {
      "cell_type": "markdown",
      "metadata": {
        "id": "VDSqSiM0WHia",
        "colab_type": "text"
      },
      "source": [
        "### Creación de nuevos campos"
      ]
    },
    {
      "cell_type": "markdown",
      "metadata": {
        "id": "M_rYjxkgWHib",
        "colab_type": "text"
      },
      "source": [
        "Sea el siguiente archivo:"
      ]
    },
    {
      "cell_type": "code",
      "metadata": {
        "id": "QTLI3IHXWHib",
        "colab_type": "code",
        "colab": {}
      },
      "source": [
        "cat > out.1 <<EOF\n",
        "Date, Year, CustomerID, Value\n",
        "2013-01-12, 2013, 1, 100\n",
        "2014-05-12, 2014, 1, 100\n",
        "2013-02-25, 2013, 2, 200\n",
        "2013-04-04, 2013, 1, 100\n",
        "2013-06-21, 2013, 2, 200\n",
        "2014-05-12, 2014, 12, 100\n",
        "2014-05-12, 2014, 2, 200\n",
        "2013-02-28, 2013, 11, 100\n",
        "2013-08-02, 2013, 1, 100\n",
        "EOF"
      ],
      "execution_count": 0,
      "outputs": []
    },
    {
      "cell_type": "markdown",
      "metadata": {
        "id": "Rrd4iFV2WHid",
        "colab_type": "text"
      },
      "source": [
        "Se desea agregar un nuevo campo llamado `Year-CoustomerID` que contiene una clave compuesta conformada por la concatenación de estos dos campos; por ejemplo, el valor para el primer registro sería `2013-1`. El siguiente comando hace el cambio del reglón dos en adelante:"
      ]
    },
    {
      "cell_type": "code",
      "metadata": {
        "id": "1DQpRojCWHid",
        "colab_type": "code",
        "colab": {},
        "outputId": "d2061625-095d-4b69-ff1e-dc131033bcb2"
      },
      "source": [
        "sed 's/ \\([0-9][0-9][0-9][0-9]\\), \\([0-9]*\\)/ \\1, \\2, \\1-\\2/' out.1 > out.2\n",
        "cat out.2"
      ],
      "execution_count": 0,
      "outputs": [
        {
          "output_type": "stream",
          "text": [
            "Date, Year, CustomerID, Value\n",
            "2013-01-12, 2013, 1, 2013-1, 100\n",
            "2014-05-12, 2014, 1, 2014-1, 100\n",
            "2013-02-25, 2013, 2, 2013-2, 200\n",
            "2013-04-04, 2013, 1, 2013-1, 100\n",
            "2013-06-21, 2013, 2, 2013-2, 200\n",
            "2014-05-12, 2014, 12, 2014-12, 100\n",
            "2014-05-12, 2014, 2, 2014-2, 200\n",
            "2013-02-28, 2013, 11, 2013-11, 100\n",
            "2013-08-02, 2013, 1, 2013-1, 100\n"
          ],
          "name": "stdout"
        }
      ]
    },
    {
      "cell_type": "markdown",
      "metadata": {
        "id": "B8RApHX9WHif",
        "colab_type": "text"
      },
      "source": [
        "Para realizar el cambio en la primera línea (el encabezado) se usaría el siguiente comando:"
      ]
    },
    {
      "cell_type": "code",
      "metadata": {
        "id": "rxBXSxaIWHif",
        "colab_type": "code",
        "colab": {},
        "outputId": "70cfc43b-5501-42b2-8dc9-fb2e1be2679b"
      },
      "source": [
        "sed 's/\\([a-zA-Z]*\\), \\([a-zA-Z]*\\), \\([a-zA-Z]*\\), \\([a-zA-Z]*\\)/\\1, \\2, \\3, \\2-\\3, \\4/' out.2"
      ],
      "execution_count": 0,
      "outputs": [
        {
          "output_type": "stream",
          "text": [
            "Date, Year, CustomerID, Year-CustomerID, Value\n",
            "2013-01-12, 2013, 1, 2013-1, 100\n",
            "2014-05-12, 2014, 1, 2014-1, 100\n",
            "2013-02-25, 2013, 2, 2013-2, 200\n",
            "2013-04-04, 2013, 1, 2013-1, 100\n",
            "2013-06-21, 2013, 2, 2013-2, 200\n",
            "2014-05-12, 2014, 12, 2014-12, 100\n",
            "2014-05-12, 2014, 2, 2014-2, 200\n",
            "2013-02-28, 2013, 11, 2013-11, 100\n",
            "2013-08-02, 2013, 1, 2013-1, 100\n"
          ],
          "name": "stdout"
        }
      ]
    },
    {
      "cell_type": "markdown",
      "metadata": {
        "id": "exDEL9K2WHii",
        "colab_type": "text"
      },
      "source": [
        "### Resumen\n",
        "\n",
        "```bash\n",
        "## imprime las líneas 3 a 6\n",
        "sed -n '3,6p' out.1\n",
        "\n",
        "## de la linea 25 al final\n",
        "sed -n '25,$ p' out.1\n",
        "\n",
        "## Imprime las lineas que contengan un 1\n",
        "sed -n '/1/p'  out.1\n",
        "\n",
        "## Imprime las líneas que tengan un 1 al inicio\n",
        "sed -n '/^1/p' out.1\n",
        "\n",
        "## Imprime las líneas que tengaun un 1 al final\n",
        "sed -n '/1$/p'  out.1\n",
        "\n",
        "# Imprime todas las lineas menos de la 3 a la 26\n",
        "sed \"3,26 d\" out.1 \n",
        "\n",
        "## Reemplaza la primera ocurrencia de X por x en cada linea\n",
        "sed 's/X/x/' out.1\n",
        "\n",
        "## Reemplaza todas las ocurrencias de X por x\n",
        "sed 's/X/x/g' out.1\n",
        "\n",
        "## Reemplaza la segunda ocurrencias de X por x\n",
        "sed 's/X/#/2' out.1\n",
        "\n",
        "## Reemplaza de la segunda ocurrencias de X por x en adelante\n",
        "sed 's/X/#/2' out.1\n",
        "\n",
        "## Reemplaza X por {X} solo en la 5a linea\n",
        "sed '5 s/X/{&}/g' out.1\n",
        "\n",
        "```"
      ]
    },
    {
      "cell_type": "markdown",
      "metadata": {
        "id": "HvhP-0Z8WHik",
        "colab_type": "text"
      },
      "source": [
        "---"
      ]
    },
    {
      "cell_type": "markdown",
      "metadata": {
        "id": "Ay8_Ftd-WHik",
        "colab_type": "text"
      },
      "source": [
        "**Borrado de los archivos temporales creados**"
      ]
    },
    {
      "cell_type": "code",
      "metadata": {
        "id": "LA7G5EICWHim",
        "colab_type": "code",
        "colab": {}
      },
      "source": [
        "rm out.*"
      ],
      "execution_count": 0,
      "outputs": []
    }
  ]
}