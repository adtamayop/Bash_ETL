{
  "nbformat": 4,
  "nbformat_minor": 0,
  "metadata": {
    "kernel_info": {
      "name": "bash"
    },
    "kernelspec": {
      "display_name": "Bash",
      "language": "bash",
      "name": "bash"
    },
    "language_info": {
      "codemirror_mode": "shell",
      "file_extension": ".sh",
      "mimetype": "text/x-sh",
      "name": "bash"
    },
    "nteract": {
      "version": "0.12.3"
    },
    "colab": {
      "name": "4. Edición de archivos con PERL.ipynb",
      "provenance": [],
      "include_colab_link": true
    }
  },
  "cells": [
    {
      "cell_type": "markdown",
      "metadata": {
        "id": "view-in-github",
        "colab_type": "text"
      },
      "source": [
        "<a href=\"https://colab.research.google.com/github/adtamayop/ETL/blob/master/4_Edici%C3%B3n_de_archivos_con_PERL.ipynb\" target=\"_parent\"><img src=\"https://colab.research.google.com/assets/colab-badge.svg\" alt=\"Open In Colab\"/></a>"
      ]
    },
    {
      "cell_type": "markdown",
      "metadata": {
        "id": "AM-SRIbTxlJp",
        "colab_type": "text"
      },
      "source": [
        "Edición de archivos con Perl\n",
        "===\n"
      ]
    },
    {
      "cell_type": "markdown",
      "metadata": {
        "id": "hNAa2RDJxlJq",
        "colab_type": "text"
      },
      "source": [
        "## Descripción"
      ]
    },
    {
      "cell_type": "markdown",
      "metadata": {
        "id": "J0A767nRxlJr",
        "colab_type": "text"
      },
      "source": [
        "Perl es un lenguaje de programación interpretado que se especializa en el procesamiento de texto y programación web. Se destaca por ser breve, efectivo y dinámico, lo que permite que la codificación sea más sencilla para los programadores.\n",
        "\n",
        "En el área de analítica, su función se enfoca en la extracción, limpieza y procesamiento  de archivos de texto teniendo como ventaja la fácil conexión a bases de datos relacionales."
      ]
    },
    {
      "cell_type": "markdown",
      "metadata": {
        "id": "gbsEeJ3QxlJs",
        "colab_type": "text"
      },
      "source": [
        "## Manual y ayuda en línea"
      ]
    },
    {
      "cell_type": "markdown",
      "metadata": {
        "id": "6frnAU0ExlJs",
        "colab_type": "text"
      },
      "source": [
        "* Manual: https://www.perl.org/learn.html\n",
        "\n",
        "* Ayuda:\n",
        "```bash\n",
        "man perl\n",
        "```"
      ]
    },
    {
      "cell_type": "markdown",
      "metadata": {
        "id": "lyV5rpTHxlJt",
        "colab_type": "text"
      },
      "source": [
        "## Tutorial básico"
      ]
    },
    {
      "cell_type": "markdown",
      "metadata": {
        "id": "2wJcA5YixlJu",
        "colab_type": "text"
      },
      "source": [
        "### Impresión de líneas específicas"
      ]
    },
    {
      "cell_type": "code",
      "metadata": {
        "id": "TlgU-0jWxlJu",
        "colab_type": "code",
        "colab": {}
      },
      "source": [
        "## se imprimen los primeros 30 números a un archivo\n",
        "!seq 30 > out.1"
      ],
      "execution_count": 0,
      "outputs": []
    },
    {
      "cell_type": "code",
      "metadata": {
        "id": "YDY4QW_ExlJx",
        "colab_type": "code",
        "colab": {
          "base_uri": "https://localhost:8080/",
          "height": 34
        },
        "outputId": "9f432dd4-d563-4505-936b-0df0e90a403f"
      },
      "source": [
        "## imprime la línea 3\n",
        "!perl -ne 'print if $.==3' out.1"
      ],
      "execution_count": 2,
      "outputs": [
        {
          "output_type": "stream",
          "text": [
            "3\n"
          ],
          "name": "stdout"
        }
      ]
    },
    {
      "cell_type": "code",
      "metadata": {
        "id": "AqtBKjFTxlJ1",
        "colab_type": "code",
        "colab": {
          "base_uri": "https://localhost:8080/",
          "height": 87
        },
        "outputId": "7a34c31e-6081-4b39-ae3e-f3093cc537d2"
      },
      "source": [
        "## imprime las líneas 3 a 6\n",
        "!perl -ne 'print if 3..6' out.1"
      ],
      "execution_count": 3,
      "outputs": [
        {
          "output_type": "stream",
          "text": [
            "3\n",
            "4\n",
            "5\n",
            "6\n"
          ],
          "name": "stdout"
        }
      ]
    },
    {
      "cell_type": "code",
      "metadata": {
        "id": "NApdXNm7xlJ3",
        "colab_type": "code",
        "colab": {
          "base_uri": "https://localhost:8080/",
          "height": 141
        },
        "outputId": "f3c16f2b-499d-46d5-a17c-e4a1ded1daba"
      },
      "source": [
        "## imprime las líneas 3 a 6 y 11 a 13\n",
        "!perl -ne 'print if 3..6; print if 11..13' out.1"
      ],
      "execution_count": 4,
      "outputs": [
        {
          "output_type": "stream",
          "text": [
            "3\n",
            "4\n",
            "5\n",
            "6\n",
            "11\n",
            "12\n",
            "13\n"
          ],
          "name": "stdout"
        }
      ]
    },
    {
      "cell_type": "markdown",
      "metadata": {
        "id": "YTz2k_qFxlJ6",
        "colab_type": "text"
      },
      "source": [
        "### Filtrado"
      ]
    },
    {
      "cell_type": "code",
      "metadata": {
        "scrolled": false,
        "id": "B_lqws12xlJ6",
        "colab_type": "code",
        "colab": {
          "base_uri": "https://localhost:8080/",
          "height": 230
        },
        "outputId": "49d43d04-13be-4a5e-9bbf-9fb63950aa96"
      },
      "source": [
        "## Imprime las lineas que contengan un 1\n",
        "!perl -ne 'print if /1/i' out.1"
      ],
      "execution_count": 5,
      "outputs": [
        {
          "output_type": "stream",
          "text": [
            "1\n",
            "10\n",
            "11\n",
            "12\n",
            "13\n",
            "14\n",
            "15\n",
            "16\n",
            "17\n",
            "18\n",
            "19\n",
            "21\n"
          ],
          "name": "stdout"
        }
      ]
    },
    {
      "cell_type": "markdown",
      "metadata": {
        "id": "_X5lvmD7xlJ9",
        "colab_type": "text"
      },
      "source": [
        "La opción `-n` indica que no debe imprimirse en pantalla cada línea leída del archivo `out.1`. La cadena `/1/` indica la expresión regular (en este caso que la línea contenga un `1` y los `/`  son delimitadores). La `p`  al final indica que se imprima la línea. Nóte que esta funcionalidad es similar a la dada por `grep`."
      ]
    },
    {
      "cell_type": "code",
      "metadata": {
        "id": "scRhj3LOxlJ9",
        "colab_type": "code",
        "colab": {
          "base_uri": "https://localhost:8080/",
          "height": 70
        },
        "outputId": "b9b7bc30-eac6-43ba-ca67-0e3314159149"
      },
      "source": [
        "## Imprime las líneas que tengaun un 1 al final\n",
        "!perl -ne 'print if /[1]$/' out.1"
      ],
      "execution_count": 6,
      "outputs": [
        {
          "output_type": "stream",
          "text": [
            "1\n",
            "11\n",
            "21\n"
          ],
          "name": "stdout"
        }
      ]
    },
    {
      "cell_type": "code",
      "metadata": {
        "id": "nBzpoffaxlKA",
        "colab_type": "code",
        "colab": {
          "base_uri": "https://localhost:8080/",
          "height": 212
        },
        "outputId": "90d8bf56-cb1d-4d50-e06d-104886e23ad5"
      },
      "source": [
        "## Imprime las líneas que tengan un 1 al inicio\n",
        "!perl -ne 'print if /^[1]/' out.1"
      ],
      "execution_count": 7,
      "outputs": [
        {
          "output_type": "stream",
          "text": [
            "1\n",
            "10\n",
            "11\n",
            "12\n",
            "13\n",
            "14\n",
            "15\n",
            "16\n",
            "17\n",
            "18\n",
            "19\n"
          ],
          "name": "stdout"
        }
      ]
    },
    {
      "cell_type": "code",
      "metadata": {
        "id": "1AeZaCcwxlKD",
        "colab_type": "code",
        "colab": {
          "base_uri": "https://localhost:8080/",
          "height": 176
        },
        "outputId": "f78895ca-c38d-42bb-f136-4195b696d1d0"
      },
      "source": [
        "## Líneas que tienen un 1 al inicio y no tienen un 1 al final\n",
        "!perl -ne 'print if /^[1]/ && !/[1]$/' out.1"
      ],
      "execution_count": 8,
      "outputs": [
        {
          "output_type": "stream",
          "text": [
            "10\n",
            "12\n",
            "13\n",
            "14\n",
            "15\n",
            "16\n",
            "17\n",
            "18\n",
            "19\n"
          ],
          "name": "stdout"
        }
      ]
    },
    {
      "cell_type": "markdown",
      "metadata": {
        "id": "DFHDiOMFxlKG",
        "colab_type": "text"
      },
      "source": [
        "Sea el siguiente archivo:"
      ]
    },
    {
      "cell_type": "code",
      "metadata": {
        "id": "o3K9CGJUxlKH",
        "colab_type": "code",
        "colab": {}
      },
      "source": [
        "%%bash\n",
        "cat > out.1 <<EOF\n",
        "1  ABC 11\n",
        "2  BBB 12\n",
        "3  CCC 13\n",
        "4x DDD 2\n",
        "5y EEE 3\n",
        "1x FAF 4\n",
        "2y GAF 4\n",
        "3  HAA 5\n",
        "EOF"
      ],
      "execution_count": 0,
      "outputs": []
    },
    {
      "cell_type": "markdown",
      "metadata": {
        "id": "PfM_b2v0xlKJ",
        "colab_type": "text"
      },
      "source": [
        "Para imprimir en pantalla todas las líneas que contienen `A` se usa el comando: "
      ]
    },
    {
      "cell_type": "code",
      "metadata": {
        "id": "P_MbyOenxlKJ",
        "colab_type": "code",
        "colab": {},
        "outputId": "9226f745-888f-44b1-8295-5c998e5f9a03"
      },
      "source": [
        "## imprime todas las lineas que tengan una A\n",
        "perl -ne 'print if /A/i' out.1"
      ],
      "execution_count": 0,
      "outputs": [
        {
          "output_type": "stream",
          "text": [
            "1  ABC 11\n",
            "1x FAF 4\n",
            "2y GAF 4\n",
            "3  HAA 5\n"
          ],
          "name": "stdout"
        }
      ]
    },
    {
      "cell_type": "code",
      "metadata": {
        "id": "kxoPFVxSxlKL",
        "colab_type": "code",
        "colab": {},
        "outputId": "d4a50b4c-1d1c-4997-cced-4a9382082dd1"
      },
      "source": [
        "perl -ne 'print if m#A#' out.1 "
      ],
      "execution_count": 0,
      "outputs": [
        {
          "output_type": "stream",
          "text": [
            "1  ABC 11\n",
            "1x FAF 4\n",
            "2y GAF 4\n",
            "3  HAA 5\n"
          ],
          "name": "stdout"
        }
      ]
    },
    {
      "cell_type": "markdown",
      "metadata": {
        "id": "PBIIiPF4xlKN",
        "colab_type": "text"
      },
      "source": [
        "Observe que la sintaxis anterior permite buscar de forma literal elementos dentro del texto mientras que en la primera la letra`A` se interpreta como mayúscula o minúscula.\n",
        "\n",
        "El siguiente comando imprime todas las líneas que contienen `1` al inicio de la frase:"
      ]
    },
    {
      "cell_type": "markdown",
      "metadata": {
        "id": "L0GIAI7QxlKO",
        "colab_type": "text"
      },
      "source": [
        "Para obtener la concatenación de dos condiciones se utiliza el simbolo `&&` y para obtener el complemento de la busqueda el simbolo `!`."
      ]
    },
    {
      "cell_type": "code",
      "metadata": {
        "id": "HwE2O4OAxlKP",
        "colab_type": "code",
        "colab": {},
        "outputId": "287e9f32-f6b4-45a4-fcf2-a31da530a3d7"
      },
      "source": [
        "## imprime todas las lineas que tengan una A y que\n",
        "## no tengan un 4\n",
        "perl -ne 'print if /A/ && !/4/' out.1"
      ],
      "execution_count": 0,
      "outputs": [
        {
          "output_type": "stream",
          "text": [
            "1  ABC 11\n",
            "3  HAA 5\n"
          ],
          "name": "stdout"
        }
      ]
    },
    {
      "cell_type": "markdown",
      "metadata": {
        "id": "r-peeBEaxlKR",
        "colab_type": "text"
      },
      "source": [
        "Es posible obtener un filtro de los elementos que contienen mas de una expresión a través de la función `index`."
      ]
    },
    {
      "cell_type": "code",
      "metadata": {
        "id": "s8-gPv31xlKR",
        "colab_type": "code",
        "colab": {},
        "outputId": "8c02972b-70ed-4a35-acf7-51c44bf798da"
      },
      "source": [
        "s='3  C' perl -ne 'print if index($_, $ENV{s})==0' out.1"
      ],
      "execution_count": 0,
      "outputs": [
        {
          "output_type": "stream",
          "text": [
            "3  CCC 13\n"
          ],
          "name": "stdout"
        }
      ]
    },
    {
      "cell_type": "markdown",
      "metadata": {
        "id": "KURXMWLfxlKT",
        "colab_type": "text"
      },
      "source": [
        "En el caso anterior, se buscó la expresión `3  C` al principio de la frase (`==0`).\n"
      ]
    },
    {
      "cell_type": "code",
      "metadata": {
        "id": "_DuF9FurxlKU",
        "colab_type": "code",
        "colab": {},
        "outputId": "37a4a2f7-fedb-4086-aea7-4bb991b02b5b"
      },
      "source": [
        "## Es posible indexar sobre los elementos de una expresión\n",
        "## reconociendo los espacios como separadores por defecto.\n",
        "perl -lane 'print $F[0]' out.1"
      ],
      "execution_count": 0,
      "outputs": [
        {
          "output_type": "stream",
          "text": [
            "1\n",
            "2\n",
            "3\n",
            "4x\n",
            "5y\n",
            "1x\n",
            "2y\n",
            "3\n"
          ],
          "name": "stdout"
        }
      ]
    },
    {
      "cell_type": "markdown",
      "metadata": {
        "id": "x2vXdIuSxlKa",
        "colab_type": "text"
      },
      "source": [
        "Para realizar comparaciones entre texto se utiliza `eq` como `==` y `ne` como `!=`, e igualmente para la impresión del resultado es posible establecer el separador deseado."
      ]
    },
    {
      "cell_type": "code",
      "metadata": {
        "id": "F_DFdZ5nxlKa",
        "colab_type": "code",
        "colab": {},
        "outputId": "1aa54d9a-ca5a-4e48-f24b-9bcc40ae9756"
      },
      "source": [
        "perl -lane 'print $F[1] if $F[0] eq \"3\"' out.1"
      ],
      "execution_count": 0,
      "outputs": [
        {
          "output_type": "stream",
          "text": [
            "CCC\n",
            "HAA\n"
          ],
          "name": "stdout"
        }
      ]
    },
    {
      "cell_type": "code",
      "metadata": {
        "id": "bh2hMGsTxlKd",
        "colab_type": "code",
        "colab": {},
        "outputId": "5a6787cd-e1d1-4848-8341-82ca251df468"
      },
      "source": [
        "perl -lane '$,=\"-\"; print $F[2],$F[3] if $F[0] ne \"3\"' out.1"
      ],
      "execution_count": 0,
      "outputs": [
        {
          "output_type": "stream",
          "text": [
            "11-\n",
            "12-\n",
            "2-\n",
            "3-\n",
            "4-\n",
            "4-\n"
          ],
          "name": "stdout"
        }
      ]
    },
    {
      "cell_type": "code",
      "metadata": {
        "id": "MJuG97I2xlKj",
        "colab_type": "code",
        "colab": {},
        "outputId": "026dc153-0eb5-42dd-973a-30378f6b99ef"
      },
      "source": [
        "perl -ne 'BEGIN{$\\=\"----\\n\"} print' out.1"
      ],
      "execution_count": 0,
      "outputs": [
        {
          "output_type": "stream",
          "text": [
            "1  ABC 11\n",
            "----\n",
            "2  BBB 12\n",
            "----\n",
            "3  CCC 13\n",
            "----\n",
            "4x DDD 2\n",
            "----\n",
            "5y EEE 3\n",
            "----\n",
            "1x FAF 4\n",
            "----\n",
            "2y GAF 4\n",
            "----\n",
            "3  HAA 5\n",
            "----\n"
          ],
          "name": "stdout"
        }
      ]
    },
    {
      "cell_type": "markdown",
      "metadata": {
        "id": "UaD_nzlzxlKl",
        "colab_type": "text"
      },
      "source": [
        "### Expresiones regulares"
      ]
    },
    {
      "cell_type": "markdown",
      "metadata": {
        "id": "1SqzDiW7xlKm",
        "colab_type": "text"
      },
      "source": [
        "Existen expresiones que facilitan la busquedas de patrones especificos. Algunas de ellas son:\n",
        "\n",
        "* `*`  -     Conincide 0 o mas veces\n",
        "* `+`  - Conincide 1 o mas veces\n",
        "* `?`   - Conincide 0 o 1 vez\n",
        "* `\\d` - Elementos numéricos (o `\\D` para el complemento de la búsqueda)\n",
        "* `\\w` - Cualquier caracter de una palabra (o `\\W` ara el complemento de la busqueda)\n",
        "* `$&`  - Parar referirse a todos los elementos que detectados\n",
        "* `{n,}` -  Conincide por lo menos `n` veces."
      ]
    },
    {
      "cell_type": "markdown",
      "metadata": {
        "id": "FZedqXWaxlKm",
        "colab_type": "text"
      },
      "source": [
        "Sea el siguiente archivo:"
      ]
    },
    {
      "cell_type": "code",
      "metadata": {
        "id": "FOSWFH_UxlKn",
        "colab_type": "code",
        "colab": {}
      },
      "source": [
        "cat > out.2 <<EOF\n",
        "1980-JAN-1+1:0:1.134\n",
        "1980-JAN-5+1:0:1.12\n",
        "1982-JAN-13+10:12:42.33\n",
        "EOF"
      ],
      "execution_count": 0,
      "outputs": []
    },
    {
      "cell_type": "markdown",
      "metadata": {
        "id": "gUzPaRG7xlKp",
        "colab_type": "text"
      },
      "source": [
        "Se desea formatear la fecha y la hora, es decir, la primera línea:\n",
        "\n",
        "```\n",
        "1980-JAN-1+1:0:1.134\n",
        "```\n",
        "\n",
        "debe cambiarse por:\n",
        "\n",
        "```\n",
        "1980-JAN-01 01:00:01\n",
        "```\n"
      ]
    },
    {
      "cell_type": "markdown",
      "metadata": {
        "id": "AwU40v-OxlKp",
        "colab_type": "text"
      },
      "source": [
        "Las expresiones regulares siguen una estructura similar a las de sed, teniendo un patrón a identificar y una expresión con la cual reemplazar o editar el elemtno anterior. \n",
        "\n",
        "`s/patrón/reemplazo`\n",
        "\n",
        "Consulte la guía de usuario de las expresiones regulares en Perl [aquí](https://perldoc.perl.org/perlre.html#Regular-Expressions)"
      ]
    },
    {
      "cell_type": "code",
      "metadata": {
        "id": "HCRXs2utxlKr",
        "colab_type": "code",
        "colab": {},
        "outputId": "4fbc1a42-4574-4986-b067-29842129dd36"
      },
      "source": [
        "perl -pe 's/\\+/ /' out.2 > out.3\n",
        "cat out.3"
      ],
      "execution_count": 0,
      "outputs": [
        {
          "output_type": "stream",
          "text": [
            "1980-JAN-1 1:0:1.134\n",
            "1980-JAN-5 1:0:1.12\n",
            "1982-JAN-13 10:12:42.33\n"
          ],
          "name": "stdout"
        }
      ]
    },
    {
      "cell_type": "code",
      "metadata": {
        "id": "WKxbnSSkxlKu",
        "colab_type": "code",
        "colab": {},
        "outputId": "5b1798c4-1947-4c5f-9f7c-3cce7b8f0a0f"
      },
      "source": [
        "perl -pe 's/-(\\w+)-(\\d)\\b/-$1-0$2/g' out.3 > out.4\n",
        "cat out.4"
      ],
      "execution_count": 0,
      "outputs": [
        {
          "output_type": "stream",
          "text": [
            "1980-JAN-01 1:0:1.134\n",
            "1980-JAN-05 1:0:1.12\n",
            "1982-JAN-13 10:12:42.33\n"
          ],
          "name": "stdout"
        }
      ]
    },
    {
      "cell_type": "markdown",
      "metadata": {
        "id": "yoeEfS1yxlKw",
        "colab_type": "text"
      },
      "source": [
        "La explicación del comando anterior es la siguiente. El patrón de entrada está conformado por los siguientes elementos:\n",
        "\n",
        "* El caracter `-`.\n",
        "* Una palabra `\\w+`. Las secuencias `(` y `)` especifican que el dígito reconocido debe recordarse. Pueden existir varias cadenas a recordar; la primera cadena es `$1`, la segunda cadena es `$2` y así sucesivamente. `(?1)` se utiliza para recordar una expresión regular anterior.\n",
        "* Un dígito `\\d`.\n",
        "* Un espacio `\\b`.\n",
        "\n",
        "El patrón de salida indica que:\n",
        "\n",
        "* Se imprime el caracter `-`.\n",
        "* Luego `JAN`.\n",
        "* A continuación el caracter `-` seguido de `0` y  del dígito reconocido de `$2`.\n"
      ]
    },
    {
      "cell_type": "code",
      "metadata": {
        "id": "5bv63wHBxlKx",
        "colab_type": "code",
        "colab": {},
        "outputId": "23574885-760c-4be2-8885-3e15b66dea13"
      },
      "source": [
        "perl -pe 's/ (\\d):(\\d):/ 0$1:0$2:/g' out.4 > out.5\n",
        "cat out.5"
      ],
      "execution_count": 0,
      "outputs": [
        {
          "output_type": "stream",
          "text": [
            "1980-JAN-01 01:00:1.134\n",
            "1980-JAN-05 01:00:1.12\n",
            "1982-JAN-13 10:12:42.33\n"
          ],
          "name": "stdout"
        }
      ]
    },
    {
      "cell_type": "code",
      "metadata": {
        "id": "FvUydsShxlKy",
        "colab_type": "code",
        "colab": {},
        "outputId": "2d8f0fb6-24a2-496b-d713-8e46dfb7f674"
      },
      "source": [
        "perl -pe 's/:(\\d*)\\.(\\d)+/:$1/g' out.5 > out.6\n",
        "cat out.6"
      ],
      "execution_count": 0,
      "outputs": [
        {
          "output_type": "stream",
          "text": [
            "1980-JAN-01 01:00:1\n",
            "1980-JAN-05 01:00:1\n",
            "1982-JAN-13 10:12:42\n"
          ],
          "name": "stdout"
        }
      ]
    },
    {
      "cell_type": "code",
      "metadata": {
        "id": "QXkzlaRqxlK1",
        "colab_type": "code",
        "colab": {},
        "outputId": "d327560d-fb2a-4471-dd4a-c98af744a906"
      },
      "source": [
        "perl -pe 's/:(\\d)\\b/:0$1/g' out.6 > out.7\n",
        "cat out.7"
      ],
      "execution_count": 0,
      "outputs": [
        {
          "output_type": "stream",
          "text": [
            "1980-JAN-01 01:00:01\n",
            "1980-JAN-05 01:00:01\n",
            "1982-JAN-13 10:12:42\n"
          ],
          "name": "stdout"
        }
      ]
    },
    {
      "cell_type": "code",
      "metadata": {
        "id": "SSJ8vsO4xlK3",
        "colab_type": "code",
        "colab": {}
      },
      "source": [
        "rm out.*"
      ],
      "execution_count": 0,
      "outputs": []
    },
    {
      "cell_type": "markdown",
      "metadata": {
        "id": "aWGHO1ZNxlK5",
        "colab_type": "text"
      },
      "source": [
        "Sea el siguiente archivo:"
      ]
    },
    {
      "cell_type": "code",
      "metadata": {
        "id": "kze7-mcNxlK6",
        "colab_type": "code",
        "colab": {}
      },
      "source": [
        "cat > out.3 <<EOF\n",
        "A B C 1\n",
        "E F G 2\n",
        "A D F 3\n",
        "B C H 4 \n",
        "E C A 5\n",
        "E A A 6\n",
        "EOF"
      ],
      "execution_count": 0,
      "outputs": []
    },
    {
      "cell_type": "markdown",
      "metadata": {
        "id": "CJ8fcLhFxlK7",
        "colab_type": "text"
      },
      "source": [
        "Es posible utilizar algunos comandos especiales para editar los registros en cuanto a su composición."
      ]
    },
    {
      "cell_type": "code",
      "metadata": {
        "id": "krZcWDQ8xlK8",
        "colab_type": "code",
        "colab": {},
        "outputId": "b212011a-4f86-432c-ca96-1249ec84dbb2"
      },
      "source": [
        "## Detecta la información entre un elemento y otro \n",
        "perl -pe 's/E.*2//' out.3"
      ],
      "execution_count": 0,
      "outputs": [
        {
          "output_type": "stream",
          "text": [
            "A B C 1\n",
            "\n",
            "A D F 3\n",
            "B C H 4 \n",
            "E C A 5\n",
            "E A A 6\n"
          ],
          "name": "stdout"
        }
      ]
    },
    {
      "cell_type": "code",
      "metadata": {
        "id": "AGK0FL_pxlK-",
        "colab_type": "code",
        "colab": {},
        "outputId": "45a918a2-9daf-4b1c-ca39-333b3d4e5434"
      },
      "source": [
        "## Permite filtrar elementos de una expresión de acuerdo a su tipo\n",
        "perl -pe 's/\\w{1}//' out.3"
      ],
      "execution_count": 0,
      "outputs": [
        {
          "output_type": "stream",
          "text": [
            " B C 1\n",
            " F G 2\n",
            " D F 3\n",
            " C H 4 \n",
            " C A 5\n",
            " A A 6\n"
          ],
          "name": "stdout"
        }
      ]
    },
    {
      "cell_type": "code",
      "metadata": {
        "id": "yUlDfgqfxlK_",
        "colab_type": "code",
        "colab": {},
        "outputId": "fdd2f5d3-bbd0-4e55-a6b5-5ac738f64036"
      },
      "source": [
        "perl -lane 'print \"@F[-1]\"' out.3"
      ],
      "execution_count": 0,
      "outputs": [
        {
          "output_type": "stream",
          "text": [
            "1\n",
            "2\n",
            "3\n",
            "4\n",
            "5\n",
            "6\n"
          ],
          "name": "stdout"
        }
      ]
    },
    {
      "cell_type": "code",
      "metadata": {
        "id": "5rBaVNMVxlLB",
        "colab_type": "code",
        "colab": {},
        "outputId": "b95d3b40-76cb-4e4b-ee36-ee97eb12fc0e"
      },
      "source": [
        "#Es posible contar los elementos de una frase a través de $.\n",
        "perl -lne 'print reverse split//' out.3"
      ],
      "execution_count": 0,
      "outputs": [
        {
          "output_type": "stream",
          "text": [
            "1 C B A\n",
            "2 G F E\n",
            "3 F D A\n",
            " 4 H C B\n",
            "5 A C E\n",
            "6 A A E\n"
          ],
          "name": "stdout"
        }
      ]
    },
    {
      "cell_type": "markdown",
      "metadata": {
        "id": "pb30-HhRxlLD",
        "colab_type": "text"
      },
      "source": [
        "### Resumen\n",
        "\n",
        "```bash\n",
        "## imprime la línea 3\n",
        "perl -ne 'print if $.==3' out.1`\n",
        "\n",
        "## imprime las líneas 3 a 6\n",
        "perl -ne 'print if 3..6' out.1\n",
        "\n",
        "## imprime las líneas 3 a 6 y 11 a 13\n",
        "perl -ne 'print if 3..6; print if 11..13' out.1\n",
        "\n",
        "## Imprime las lineas que contengan un 1\n",
        "perl -ne 'print if /1/i' out.1\n",
        "\n",
        "## Imprime las líneas que tengaun un 1 al final\n",
        "perl -ne 'print if /[1]$/' out.1\n",
        "\n",
        "## Imprime las líneas que tengan un 1 al inicio\n",
        "perl -ne 'print if /^[1]/' out.1\n",
        "\n",
        "## Líneas que tienen un 1 al inicio y no tienen un 1 al final\n",
        "perl -ne 'print if /^[1]/ && !/[1]$/' out.1\n",
        "\n",
        "## imprime todas las lineas que tengan una A\n",
        "perl -ne 'print if /A/i' out.1\n",
        "\n",
        "## imprime todas las lineas que tengan una A y que\n",
        "## no tengan un 4\n",
        "perl -ne 'print if /A/ && !/4/' out.1\n",
        "```"
      ]
    },
    {
      "cell_type": "markdown",
      "metadata": {
        "id": "j1IeCm4hxlLI",
        "colab_type": "text"
      },
      "source": [
        "**Borrado de los archivos temporales creados**"
      ]
    },
    {
      "cell_type": "code",
      "metadata": {
        "id": "XyQj8N9jxlLJ",
        "colab_type": "code",
        "colab": {}
      },
      "source": [
        "rm out.*"
      ],
      "execution_count": 0,
      "outputs": []
    }
  ]
}